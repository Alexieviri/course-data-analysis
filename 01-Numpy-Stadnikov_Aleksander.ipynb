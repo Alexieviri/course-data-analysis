{
 "cells": [
  {
   "cell_type": "markdown",
   "metadata": {},
   "source": [
    "Лабораторная работа № 1: **Numpy**<br>\n",
    "Выполнил: **Стадников Александр, гр.6135**"
   ]
  },
  {
   "cell_type": "code",
   "execution_count": 1,
   "metadata": {},
   "outputs": [],
   "source": [
    "import numpy as np"
   ]
  },
  {
   "cell_type": "markdown",
   "metadata": {},
   "source": [
    "### Задание 1: 12 методов из документации NumPy\n",
    "Взять из документации по numpy 12 любых функций / методов / операторов и продемонстрировать из работу в блокноте. Демонстрация каждой функции в своей ячейке. Если снабдите комментарием что делает данная операция — будет вообще прекрасно."
   ]
  },
  {
   "cell_type": "markdown",
   "metadata": {},
   "source": [
    "1. np.array"
   ]
  },
  {
   "cell_type": "markdown",
   "metadata": {},
   "source": [
    "Что делает: Инициализирует массив из данного массивоподобного массива, позволяет задать тип данных в массиве"
   ]
  },
  {
   "cell_type": "code",
   "execution_count": 2,
   "metadata": {
    "scrolled": true
   },
   "outputs": [
    {
     "name": "stdout",
     "output_type": "stream",
     "text": [
      "[ 1  2  3  4  5  6  7  8  9 10]\n",
      "[ 1.  2.  3.  4.  5.  6.  7.  8.  9. 10.]\n"
     ]
    }
   ],
   "source": [
    "a = np.array(object=range(1,11))\n",
    "print(a)\n",
    "a_float = np.array(object=range(1,11),dtype=np.float)\n",
    "print(a_float)"
   ]
  },
  {
   "cell_type": "markdown",
   "metadata": {},
   "source": [
    "2. np.full"
   ]
  },
  {
   "cell_type": "markdown",
   "metadata": {},
   "source": [
    "Что делает: инициализирует массив заданной формы, элементы которого равны fill_value"
   ]
  },
  {
   "cell_type": "code",
   "execution_count": 3,
   "metadata": {},
   "outputs": [
    {
     "name": "stdout",
     "output_type": "stream",
     "text": [
      "[[2 2 2 2]\n",
      " [2 2 2 2]\n",
      " [2 2 2 2]\n",
      " [2 2 2 2]]\n"
     ]
    }
   ],
   "source": [
    "b = np.full(shape=(4,4),fill_value=2)\n",
    "print(b)"
   ]
  },
  {
   "cell_type": "markdown",
   "metadata": {},
   "source": [
    "3. np.arrange"
   ]
  },
  {
   "cell_type": "markdown",
   "metadata": {},
   "source": [
    "Что делает: создает массив из элементов на интервале [start,stop) c шагом step"
   ]
  },
  {
   "cell_type": "code",
   "execution_count": 4,
   "metadata": {},
   "outputs": [
    {
     "name": "stdout",
     "output_type": "stream",
     "text": [
      "[1.   1.25 1.5  1.75 2.   2.25 2.5  2.75]\n"
     ]
    }
   ],
   "source": [
    "c = np.arange(start=1,stop=3,step=0.25)\n",
    "print(c)"
   ]
  },
  {
   "cell_type": "markdown",
   "metadata": {},
   "source": [
    "4. np.random.randn"
   ]
  },
  {
   "cell_type": "markdown",
   "metadata": {},
   "source": [
    "Что делает: генерирует массив заданной формы с псевдослучайными числами распределенными по нормальному закону. Если размерности массива не заданы, то вернет одно число."
   ]
  },
  {
   "cell_type": "code",
   "execution_count": 5,
   "metadata": {},
   "outputs": [
    {
     "name": "stdout",
     "output_type": "stream",
     "text": [
      "1.934827314579338\n",
      "[[ 0.86944487 -0.72473515  0.4386185   0.36469085 -0.7983384 ]\n",
      " [-1.94869876 -1.08206722  1.01268007  0.37337292 -0.36643219]]\n"
     ]
    }
   ],
   "source": [
    "print(np.random.randn())\n",
    "print(np.random.randn(2,5))"
   ]
  },
  {
   "cell_type": "markdown",
   "metadata": {},
   "source": [
    "5. np.shape"
   ]
  },
  {
   "cell_type": "markdown",
   "metadata": {},
   "source": [
    "Что делает: возвращает форму массив"
   ]
  },
  {
   "cell_type": "code",
   "execution_count": 6,
   "metadata": {},
   "outputs": [
    {
     "name": "stdout",
     "output_type": "stream",
     "text": [
      "(4, 4)\n"
     ]
    }
   ],
   "source": [
    "print(np.shape(b))"
   ]
  },
  {
   "cell_type": "markdown",
   "metadata": {},
   "source": [
    "6. np.reshape"
   ]
  },
  {
   "cell_type": "markdown",
   "metadata": {},
   "source": [
    "Что делает: меняет форму массива на предоставленную, новая форма должна быть совместима с предыдущей. Т.е. произведения размерностей должны быть равны."
   ]
  },
  {
   "cell_type": "code",
   "execution_count": 7,
   "metadata": {},
   "outputs": [
    {
     "name": "stdout",
     "output_type": "stream",
     "text": [
      "[[2 2 2 2 2 2 2 2]\n",
      " [2 2 2 2 2 2 2 2]]\n"
     ]
    },
    {
     "data": {
      "text/plain": [
       "'Shape: (2, 8)'"
      ]
     },
     "execution_count": 7,
     "metadata": {},
     "output_type": "execute_result"
    }
   ],
   "source": [
    "d = np.reshape(a=b,newshape=(2,8))\n",
    "print(d)\n",
    "'Shape: {}'.format(d.shape)"
   ]
  },
  {
   "cell_type": "markdown",
   "metadata": {},
   "source": [
    "7. ndarray.T"
   ]
  },
  {
   "cell_type": "markdown",
   "metadata": {},
   "source": [
    "Что делает: транспонирование массива"
   ]
  },
  {
   "cell_type": "code",
   "execution_count": 8,
   "metadata": {},
   "outputs": [
    {
     "name": "stdout",
     "output_type": "stream",
     "text": [
      "[[2 2]\n",
      " [2 2]\n",
      " [2 2]\n",
      " [2 2]\n",
      " [2 2]\n",
      " [2 2]\n",
      " [2 2]\n",
      " [2 2]]\n"
     ]
    },
    {
     "data": {
      "text/plain": [
       "'Shape: (8, 2)'"
      ]
     },
     "execution_count": 8,
     "metadata": {},
     "output_type": "execute_result"
    }
   ],
   "source": [
    "e= d.T\n",
    "print(e)\n",
    "'Shape: {}'.format(e.shape)"
   ]
  },
  {
   "cell_type": "markdown",
   "metadata": {},
   "source": [
    "8. == и немножно [ ]"
   ]
  },
  {
   "cell_type": "markdown",
   "metadata": {},
   "source": [
    "Что делает: сравнение массивов, сравнение элементов массива с числом"
   ]
  },
  {
   "cell_type": "code",
   "execution_count": 9,
   "metadata": {},
   "outputs": [
    {
     "name": "stdout",
     "output_type": "stream",
     "text": [
      "tmp      : [1 2 0 1 2 0 1 2 0 1]\n",
      "tmp == 0 : [False False  True False False  True False False  True False]\n",
      "a[res]   : [3 6 9]\n"
     ]
    }
   ],
   "source": [
    "#Для примера возьмем массив а и возьмем остаток от деления на 3\n",
    "tmp = a % 3\n",
    "print('tmp      : {}'.format( tmp ))\n",
    "#В результате сравнения на позициях, где элемент равен 0 в tmp,\n",
    "#в результирующем массиве получим True\n",
    "res = tmp == 0\n",
    "print('tmp == 0 : {}'.format( res ))\n",
    "#С помощью такого массива можем вытащить из массива а, все элементы кратные 3\n",
    "print('a[res]   : {}'.format(a[res]))"
   ]
  },
  {
   "cell_type": "markdown",
   "metadata": {},
   "source": [
    "9. np.all"
   ]
  },
  {
   "cell_type": "markdown",
   "metadata": {},
   "source": [
    "Что делает: если все элементы массива == True, то возвращет True, иначе False"
   ]
  },
  {
   "cell_type": "code",
   "execution_count": 10,
   "metadata": {},
   "outputs": [
    {
     "name": "stdout",
     "output_type": "stream",
     "text": [
      "False\n",
      "True\n",
      "False\n"
     ]
    }
   ],
   "source": [
    "print(np.all(res))\n",
    "print(np.all([True, True, True]))\n",
    "print(np.all([False,False,False]))"
   ]
  },
  {
   "cell_type": "markdown",
   "metadata": {},
   "source": [
    "10. np.any"
   ]
  },
  {
   "cell_type": "markdown",
   "metadata": {},
   "source": [
    "Что делает: True, если хотя бы один элемент массива == True, если ни одни элемент не == True, то False"
   ]
  },
  {
   "cell_type": "code",
   "execution_count": 11,
   "metadata": {},
   "outputs": [
    {
     "name": "stdout",
     "output_type": "stream",
     "text": [
      "True\n",
      "True\n",
      "False\n"
     ]
    }
   ],
   "source": [
    "print(np.any(res))\n",
    "print(np.any([True, True, True]))\n",
    "print(np.any([False,False,False]))"
   ]
  },
  {
   "cell_type": "markdown",
   "metadata": {},
   "source": [
    "11. np.nansum"
   ]
  },
  {
   "cell_type": "markdown",
   "metadata": {},
   "source": [
    "Что делает: Сумма элементов массива (по заданной оси), где Nan приравнивается к 0"
   ]
  },
  {
   "cell_type": "code",
   "execution_count": 12,
   "metadata": {},
   "outputs": [
    {
     "name": "stdout",
     "output_type": "stream",
     "text": [
      "[[ 1.  2.  3.]\n",
      " [ 4. nan  6.]\n",
      " [nan  8.  9.]]\n",
      "33.0\n",
      "[ 5. 10. 18.]\n",
      "[ 6. 10. 17.]\n"
     ]
    }
   ],
   "source": [
    "a1 = np.array([[1,2,3],[4,np.nan,6],[np.nan,8,9]])\n",
    "print(a1)\n",
    "print(np.nansum(a1))\n",
    "print(np.nansum(a1,axis=0))\n",
    "print(np.nansum(a1,axis=1))"
   ]
  },
  {
   "cell_type": "markdown",
   "metadata": {},
   "source": [
    "12. np.floor"
   ]
  },
  {
   "cell_type": "markdown",
   "metadata": {},
   "source": [
    "Что делает: округление вниз"
   ]
  },
  {
   "cell_type": "code",
   "execution_count": 13,
   "metadata": {},
   "outputs": [
    {
     "name": "stdout",
     "output_type": "stream",
     "text": [
      "c          : [1.   1.25 1.5  1.75 2.   2.25 2.5  2.75]\n",
      "np.floor(c): [1. 1. 1. 1. 2. 2. 2. 2.]\n"
     ]
    }
   ],
   "source": [
    "print('c          : {}'.format(c))\n",
    "print('np.floor(c): {}'.format(np.floor(c)))"
   ]
  },
  {
   "cell_type": "markdown",
   "metadata": {},
   "source": [
    "### Задание 2: OLAP-куб\n",
    "**Сгенерировать OLAP-куб, где фиксируем продажи товаров в розничной сети по магазинам.** <br> <br>\n",
    "Оси: \n",
    "- 0: ID группы товаров \n",
    "- 1: ID магазина \n",
    "- 2: день месяца, в котором осуществляются продажи (предположим у нас в OLAP-кубе собраны продажи за месяц). \n",
    "\n",
    "- Содержимое ячейки: продажи в тыс. рублей данной категории товаров в данном магазине в данный день."
   ]
  },
  {
   "cell_type": "code",
   "execution_count": 14,
   "metadata": {},
   "outputs": [
    {
     "name": "stdout",
     "output_type": "stream",
     "text": [
      "[[[61. 17. 48. ... 69. 21. 21.]\n",
      "  [17. 61. 72. ... 33. 18. 42.]\n",
      "  [21. 50. 53. ... 66. 18. 22.]\n",
      "  [48. 23. 37. ... 24. 56. 72.]\n",
      "  [38. 56. 68. ... 51. 63. 66.]]\n",
      "\n",
      " [[11. 24. 39. ... 24. 10. 49.]\n",
      "  [63. 50. 12. ... 49. 41. 55.]\n",
      "  [43. 74. 35. ... 29. 79. 61.]\n",
      "  [35. 41. 41. ... 76. 22. 15.]\n",
      "  [66. 70. 51. ... 30. 58. 56.]]\n",
      "\n",
      " [[11. 15. 33. ... 51. 50. 25.]\n",
      "  [35. 62. 65. ... 14. 77. 35.]\n",
      "  [21. 73. 73. ... 59. 33. 79.]\n",
      "  [58. 51. 65. ... 28. 26. 75.]\n",
      "  [55. 25. 22. ... 36. 38. 64.]]\n",
      "\n",
      " ...\n",
      "\n",
      " [[52. 42. 36. ... 20. 25. 61.]\n",
      "  [52. 43. 37. ... 76. 38. 50.]\n",
      "  [29. 60. 20. ... 77. 57. 41.]\n",
      "  [62. 47. 67. ... 51. 22. 15.]\n",
      "  [33. 33. 55. ... 30. 54. 16.]]\n",
      "\n",
      " [[75. 26. 17. ... 64. 35. 63.]\n",
      "  [37. 40. 29. ... 72. 51. 39.]\n",
      "  [11. 69. 56. ... 71. 73. 22.]\n",
      "  [39. 63. 61. ... 11. 75. 78.]\n",
      "  [57. 71. 60. ... 34. 23. 64.]]\n",
      "\n",
      " [[42. 19. 48. ... 71. 68. 59.]\n",
      "  [48. 57. 69. ... 50. 33. 55.]\n",
      "  [76. 79. 71. ... 64. 32. 52.]\n",
      "  [45. 19. 16. ... 57. 45. 65.]\n",
      "  [22. 70. 10. ... 67. 55. 53.]]]\n"
     ]
    }
   ],
   "source": [
    "products = np.arange(0, 22, 1)\n",
    "shops = np.arange(0, 5, 1)\n",
    "days = np.arange(1, 31, 1)\n",
    "cube = np.zeros([products.size, shops.size, days.size])\n",
    "\n",
    "for p in range(products.size):\n",
    "  for s in range(shops.size):\n",
    "    for d in range(days.size):\n",
    "      cube[p, s, d] = np.random.randint(10, 80)\n",
    "\n",
    "print(cube)"
   ]
  },
  {
   "cell_type": "markdown",
   "metadata": {},
   "source": [
    "### Задание 3: посчитать статистики для OLAP-куба.\n",
    "Для получившегося OLAP-куба посчитать суммарные, средние, минимальные и максимальные продажи (на самом деле любые агрегатные функции можно использовать), зафиксировав значения по одной, двум или трём осям: например взять какой-то определённый набор товаров и набор городов или диапазон дней и сагрегировать данные по всем ячейкам из зафиксированного набора. Пример: получить сумму, среднее, минимум и максимум по продажам 10-20 чисел месяца для товаров [1,3,4] по всем городам (или по конкретному набору городов). Попробуйте различные варианты индексации и различные варианты срезов, насколько хватит фантазии."
   ]
  },
  {
   "cell_type": "code",
   "execution_count": 15,
   "metadata": {},
   "outputs": [
    {
     "name": "stdout",
     "output_type": "stream",
     "text": [
      "Общая сумма продаж всех товаров во всех магазинах за весь месяц: \n",
      "\n",
      "147687.0\n",
      "\n",
      "-----------------------------------------------------\n",
      "\n",
      "Сумма по продажам 1-5 чисел месяца для товара 9 по всем магазинам: \n",
      "\n",
      "1012.0\n",
      "\n",
      "-----------------------------------------------------\n",
      "\n",
      "Минимум по продажам 10-20 чисел месяца для товара 16 в магазине 3: \n",
      "\n",
      "15.0\n",
      "\n",
      "-----------------------------------------------------\n",
      "\n",
      "Минимум по продажам 15-20 чисел месяца для товара 9 в магазине 2: \n",
      "\n",
      "39.0\n",
      "\n",
      "-----------------------------------------------------\n",
      "\n",
      "Стандартное отклонение по продажам 1-10 чисел месяца для товара 1 по всем магазинам: \n",
      "\n",
      "20.853623186391378\n",
      "\n",
      "-----------------------------------------------------\n",
      "\n",
      "Максимум по продажам за все время для товара 12 в магазине 2: \n",
      "\n",
      "77.0\n",
      "\n",
      "-----------------------------------------------------\n",
      "\n",
      "Cреднее по продажам за все время для товара 1 в магазине 1: \n",
      "\n",
      "46.833333333333336\n",
      "\n",
      "-----------------------------------------------------\n",
      "\n"
     ]
    }
   ],
   "source": [
    "print(\"Общая сумма продаж всех товаров во всех магазинах за весь месяц: \\n\")\n",
    "print(np.sum(cube[:,:,:]))\n",
    "print(\"\\n-----------------------------------------------------\\n\")\n",
    "\n",
    "print(\"Сумма по продажам 1-5 чисел месяца для товара 9 по всем магазинам: \\n\")\n",
    "print(np.sum(cube[9,:,[days[0:5]]]))\n",
    "print(\"\\n-----------------------------------------------------\\n\")\n",
    "\n",
    "print(\"Минимум по продажам 10-20 чисел месяца для товара 16 в магазине 3: \\n\")\n",
    "print(np.min(cube[16,3,[days[9:20]]]))\n",
    "print(\"\\n-----------------------------------------------------\\n\")\n",
    "\n",
    "print(\"Минимум по продажам 15-20 чисел месяца для товара 9 в магазине 2: \\n\")\n",
    "print(np.min(cube[9,2,[days[14:20]]]))\n",
    "print(\"\\n-----------------------------------------------------\\n\")\n",
    "\n",
    "print(\"Стандартное отклонение по продажам 1-10 чисел месяца для товара 1 по всем магазинам: \\n\")\n",
    "print(np.std(cube[1,:,[days[0:10]]]))\n",
    "print(\"\\n-----------------------------------------------------\\n\")\n",
    "\n",
    "\n",
    "print(\"Максимум по продажам за все время для товара 12 в магазине 2: \\n\")\n",
    "print(np.max(cube[12,2,:]))\n",
    "print(\"\\n-----------------------------------------------------\\n\")\n",
    "\n",
    "print(\"Cреднее по продажам за все время для товара 1 в магазине 1: \\n\")\n",
    "print(np.mean(cube[1,1,:]))\n",
    "print(\"\\n-----------------------------------------------------\\n\")"
   ]
  },
  {
   "cell_type": "code",
   "execution_count": null,
   "metadata": {},
   "outputs": [],
   "source": []
  }
 ],
 "metadata": {
  "kernelspec": {
   "display_name": "Python 3",
   "language": "python",
   "name": "python3"
  },
  "language_info": {
   "codemirror_mode": {
    "name": "ipython",
    "version": 3
   },
   "file_extension": ".py",
   "mimetype": "text/x-python",
   "name": "python",
   "nbconvert_exporter": "python",
   "pygments_lexer": "ipython3",
   "version": "3.8.5"
  }
 },
 "nbformat": 4,
 "nbformat_minor": 4
}
