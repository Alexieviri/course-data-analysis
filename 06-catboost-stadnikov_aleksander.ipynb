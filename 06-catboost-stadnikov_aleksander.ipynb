{
 "cells": [
  {
   "cell_type": "markdown",
   "metadata": {},
   "source": [
    "Лабораторная работа № 6: **Catboost** <br>\n",
    "Выполнил: **Стадников Александр, гр.6135**"
   ]
  },
  {
   "cell_type": "code",
   "execution_count": 1,
   "metadata": {},
   "outputs": [],
   "source": [
    "import pandas as pd\n",
    "pd.set_option('display.max_columns', None)\n",
    "\n",
    "import numpy as np\n",
    "\n",
    "import matplotlib.pyplot as plt \n",
    "import seaborn as sns \n",
    "sns.set_style(\"darkgrid\")\n",
    "\n",
    "import warnings\n",
    "import sys  \n",
    "if not sys.warnoptions:\n",
    "    warnings.simplefilter(\"ignore\")"
   ]
  },
  {
   "cell_type": "code",
   "execution_count": 2,
   "metadata": {},
   "outputs": [],
   "source": [
    "import catboost\n",
    "from catboost import *"
   ]
  },
  {
   "cell_type": "markdown",
   "metadata": {},
   "source": [
    "# Загрузка датасета"
   ]
  },
  {
   "cell_type": "markdown",
   "metadata": {},
   "source": [
    "**Исходные данные:** http://archive.ics.uci.edu/ml/datasets/Automobile\n",
    "\n",
    "**Набор данных:** Набор данных об автомобилях\n",
    "\n",
    "Этот набор данных состоит из трех типов объектов: (а) спецификация автомобиля с точки зрения различных характеристик, (б) присвоенный ему рейтинг страхового риска, (в) его нормализованные потери при использовании по сравнению с другими автомобилями. Второй рейтинг соответствует тому, насколько автомобиль более рискован, чем указывает его цена. Автомобилям изначально присваивается символ фактора риска, связанный с его ценой. Затем, если это более рискованно (или менее), этот символ корректируется, перемещая его вверх (или вниз) по шкале. Актуарии называют этот процесс «символизацией». Значение +3 указывает на то, что авто рискованно, -3, что это, вероятно, довольно безопасно.\n",
    "\n",
    "**Столбцы:**\n",
    "\n",
    "1. **symboling:** фактор риска от -3 до +3.\n",
    "2. **normalized-losses:** нормализованные потери.\n",
    "3. **make:** марка автомобиля:\n",
    ">alfa-romero, audi, bmw, chevrolet, dodge, honda,\n",
    "isuzu, jaguar, mazda, mercedes-benz, mercury,\n",
    "mitsubishi, nissan, peugot, plymouth, porsche,\n",
    "renault, saab, subaru, toyota, volkswagen, volvo\n",
    "4. **fuel-type:** тип топлива: дизель, газ.\n",
    "5. **aspiration:** турбонаддув: std (стандартный), turbo.\n",
    "6. **num-of-doors:** кол-во дверей: 2 и 4.\n",
    "7. **body-style:** тип кузова: хардтоп, универсал, седан, хэтчбек, кабриолет.\n",
    "8. **drive-wheels:** тип привода: 4wd (полный привод), fwd (передний), rwd (задний).\n",
    "9. **engine-location:** расположение двигателя: front (спереди), rear (сзади).\n",
    "10. **wheel-base:** колёсная база: от 86.6 до 120.9.\n",
    "11. **length:** длина автомобиля: от 141.1 до 208.1.\n",
    "12. **width:** ширина автомобиля: от 60.3 to 72.3.\n",
    "13. **height:** высота автомобиля: от 47.8 to 59.8.\n",
    "14. **curb-weight:** масса автомобиля: от 1488 до 4066.\n",
    "15. **engine-type:** тип двигателя: dohc, dohcv, l, ohc, ohcf, ohcv, rotor.\n",
    "16. **num-of-cylinders:** кол-во цилиндров двигателя: eight, five, four, six, three, twelve, two.\n",
    "17. **engine-size:** размер двигателя: от 61 до 326.\n",
    "18. **fuel-system:** топливная система: 1bbl, 2bbl, 4bbl, idi, mfi, mpfi, spdi, spfi.\n",
    "19. **bore:** диаметр поршня: от 2.54 до 3.94.\n",
    "20. **stroke:** ход поршня: от 2.07 до 4.17.\n",
    "21. **compression-ratio:** степень сжатия: от 7 до 23.\n",
    "22. **horsepower:** лошадинные силы от 48 до 288.\n",
    "23. **peak-rpm:** пиковый крутящий момент от 4150 до 6600 оборотов в минуту.\n",
    "24. **city-mpg:** расход в городе: от 13 до 49 миль на галон топлива.\n",
    "25. **highway-mpg:** расход по шоссе: от 16 до 54 миль на галон топлива.\n",
    "26. **price:** цена автомобиля: от 5118 до 45400 долларов США."
   ]
  },
  {
   "cell_type": "markdown",
   "metadata": {},
   "source": [
    "**Полное оригинальное описание датасета:** (на английском)"
   ]
  },
  {
   "cell_type": "code",
   "execution_count": 3,
   "metadata": {},
   "outputs": [
    {
     "name": "stdout",
     "output_type": "stream",
     "text": [
      "1. Title: 1985 Auto Imports Database\n",
      "\n",
      "\n",
      "\n",
      "2. Source Information:\n",
      "\n",
      "   -- Creator/Donor: Jeffrey C. Schlimmer (Jeffrey.Schlimmer@a.gp.cs.cmu.edu)\n",
      "\n",
      "   -- Date: 19 May 1987\n",
      "\n",
      "   -- Sources:\n",
      "\n",
      "     1) 1985 Model Import Car and Truck Specifications, 1985 Ward's\n",
      "\n",
      "        Automotive Yearbook.\n",
      "\n",
      "     2) Personal Auto Manuals, Insurance Services Office, 160 Water\n",
      "\n",
      "        Street, New York, NY 10038 \n",
      "\n",
      "     3) Insurance Collision Report, Insurance Institute for Highway\n",
      "\n",
      "        Safety, Watergate 600, Washington, DC 20037\n",
      "\n",
      "\n",
      "\n",
      "3. Past Usage:\n",
      "\n",
      "   -- Kibler,~D., Aha,~D.~W., \\& Albert,~M. (1989).  Instance-based prediction\n",
      "\n",
      "      of real-valued attributes.  {\\it Computational Intelligence}, {\\it 5},\n",
      "\n",
      "      51--57.\n",
      "\n",
      "\t -- Predicted price of car using all numeric and Boolean attributes\n",
      "\n",
      "\t -- Method: an instance-based learning (IBL) algorithm derived from a\n",
      "\n",
      "\t    localized k-nearest neighbor algorithm.  Compared with a\n",
      "\n",
      "\t    linear regression prediction...so all instances\n",
      "\n",
      "\t    with missing attribute values were discarded.  This resulted with\n",
      "\n",
      "\t    a training set of 159 instances, which was also used as a test\n",
      "\n",
      "\t    set (minus the actual instance during testing).\n",
      "\n",
      "\t -- Results: Percent Average Deviation Error of Prediction from Actual\n",
      "\n",
      "\t    -- 11.84% for the IBL algorithm\n",
      "\n",
      "\t    -- 14.12% for the resulting linear regression equation\n",
      "\n",
      "\n",
      "\n",
      "4. Relevant Information:\n",
      "\n",
      "   -- Description\n",
      "\n",
      "      This data set consists of three types of entities: (a) the\n",
      "\n",
      "      specification of an auto in terms of various characteristics, (b)\n",
      "\n",
      "      its assigned insurance risk rating, (c) its normalized losses in use\n",
      "\n",
      "      as compared to other cars.  The second rating corresponds to the\n",
      "\n",
      "      degree to which the auto is more risky than its price indicates.\n",
      "\n",
      "      Cars are initially assigned a risk factor symbol associated with its\n",
      "\n",
      "      price.   Then, if it is more risky (or less), this symbol is\n",
      "\n",
      "      adjusted by moving it up (or down) the scale.  Actuarians call this\n",
      "\n",
      "      process \"symboling\".  A value of +3 indicates that the auto is\n",
      "\n",
      "      risky, -3 that it is probably pretty safe.\n",
      "\n",
      "\n",
      "\n",
      "      The third factor is the relative average loss payment per insured\n",
      "\n",
      "      vehicle year.  This value is normalized for all autos within a\n",
      "\n",
      "      particular size classification (two-door small, station wagons,\n",
      "\n",
      "      sports/speciality, etc...), and represents the average loss per car\n",
      "\n",
      "      per year.\n",
      "\n",
      "\n",
      "\n",
      "   -- Note: Several of the attributes in the database could be used as a\n",
      "\n",
      "            \"class\" attribute.\n",
      "\n",
      "\n",
      "\n",
      "5. Number of Instances: 205\n",
      "\n",
      "\n",
      "\n",
      "6. Number of Attributes: 26 total\n",
      "\n",
      "   -- 15 continuous\n",
      "\n",
      "   -- 1 integer\n",
      "\n",
      "   -- 10 nominal\n",
      "\n",
      "\n",
      "\n",
      "7. Attribute Information:     \n",
      "\n",
      "     Attribute:                Attribute Range:\n",
      "\n",
      "     ------------------        -----------------------------------------------\n",
      "\n",
      "  1. symboling:                -3, -2, -1, 0, 1, 2, 3.\n",
      "\n",
      "  2. normalized-losses:        continuous from 65 to 256.\n",
      "\n",
      "  3. make:                     alfa-romero, audi, bmw, chevrolet, dodge, honda,\n",
      "\n",
      "                               isuzu, jaguar, mazda, mercedes-benz, mercury,\n",
      "\n",
      "                               mitsubishi, nissan, peugot, plymouth, porsche,\n",
      "\n",
      "                               renault, saab, subaru, toyota, volkswagen, volvo\n",
      "\n",
      "  4. fuel-type:                diesel, gas.\n",
      "\n",
      "  5. aspiration:               std, turbo.\n",
      "\n",
      "  6. num-of-doors:             four, two.\n",
      "\n",
      "  7. body-style:               hardtop, wagon, sedan, hatchback, convertible.\n",
      "\n",
      "  8. drive-wheels:             4wd, fwd, rwd.\n",
      "\n",
      "  9. engine-location:          front, rear.\n",
      "\n",
      " 10. wheel-base:               continuous from 86.6 120.9.\n",
      "\n",
      " 11. length:                   continuous from 141.1 to 208.1.\n",
      "\n",
      " 12. width:                    continuous from 60.3 to 72.3.\n",
      "\n",
      " 13. height:                   continuous from 47.8 to 59.8.\n",
      "\n",
      " 14. curb-weight:              continuous from 1488 to 4066.\n",
      "\n",
      " 15. engine-type:              dohc, dohcv, l, ohc, ohcf, ohcv, rotor.\n",
      "\n",
      " 16. num-of-cylinders:         eight, five, four, six, three, twelve, two.\n",
      "\n",
      " 17. engine-size:              continuous from 61 to 326.\n",
      "\n",
      " 18. fuel-system:              1bbl, 2bbl, 4bbl, idi, mfi, mpfi, spdi, spfi.\n",
      "\n",
      " 19. bore:                     continuous from 2.54 to 3.94.\n",
      "\n",
      " 20. stroke:                   continuous from 2.07 to 4.17.\n",
      "\n",
      " 21. compression-ratio:        continuous from 7 to 23.\n",
      "\n",
      " 22. horsepower:               continuous from 48 to 288.\n",
      "\n",
      " 23. peak-rpm:                 continuous from 4150 to 6600.\n",
      "\n",
      " 24. city-mpg:                 continuous from 13 to 49.\n",
      "\n",
      " 25. highway-mpg:              continuous from 16 to 54.\n",
      "\n",
      " 26. price:                    continuous from 5118 to 45400.\n",
      "\n",
      "\n",
      "\n",
      "8. Missing Attribute Values: (denoted by \"?\")\n",
      "\n",
      "   Attribute #:   Number of instances missing a value:\n",
      "\n",
      "   2.             41\n",
      "\n",
      "   6.             2\n",
      "\n",
      "   19.            4\n",
      "\n",
      "   20.            4\n",
      "\n",
      "   22.            2\n",
      "\n",
      "   23.            2\n",
      "\n",
      "   26.            4\n",
      "\n",
      "\n",
      "\n",
      "\n",
      "\n",
      "\n",
      "\n",
      "\n",
      "\n"
     ]
    }
   ],
   "source": [
    "fp = r\"data\\imports-85_inf.txt\"\n",
    "with open(fp) as file_handler:\n",
    "    for line in file_handler:\n",
    "        print(line)"
   ]
  },
  {
   "cell_type": "code",
   "execution_count": 4,
   "metadata": {},
   "outputs": [
    {
     "data": {
      "text/html": [
       "<div>\n",
       "<style scoped>\n",
       "    .dataframe tbody tr th:only-of-type {\n",
       "        vertical-align: middle;\n",
       "    }\n",
       "\n",
       "    .dataframe tbody tr th {\n",
       "        vertical-align: top;\n",
       "    }\n",
       "\n",
       "    .dataframe thead th {\n",
       "        text-align: right;\n",
       "    }\n",
       "</style>\n",
       "<table border=\"1\" class=\"dataframe\">\n",
       "  <thead>\n",
       "    <tr style=\"text-align: right;\">\n",
       "      <th></th>\n",
       "      <th>symboling</th>\n",
       "      <th>normalized-losses</th>\n",
       "      <th>make</th>\n",
       "      <th>fuel-type</th>\n",
       "      <th>aspiration</th>\n",
       "      <th>num-of-doors</th>\n",
       "      <th>body-style</th>\n",
       "      <th>drive-wheels</th>\n",
       "      <th>engine-location</th>\n",
       "      <th>wheel-base</th>\n",
       "      <th>length</th>\n",
       "      <th>width</th>\n",
       "      <th>height</th>\n",
       "      <th>curb-weight</th>\n",
       "      <th>engine-type</th>\n",
       "      <th>num-of-cylinders</th>\n",
       "      <th>engine-size</th>\n",
       "      <th>fuel-system</th>\n",
       "      <th>bore</th>\n",
       "      <th>stroke</th>\n",
       "      <th>compression-ratio</th>\n",
       "      <th>horsepower</th>\n",
       "      <th>peak-rpm</th>\n",
       "      <th>city-mpg</th>\n",
       "      <th>highway-mpg</th>\n",
       "      <th>price</th>\n",
       "    </tr>\n",
       "  </thead>\n",
       "  <tbody>\n",
       "    <tr>\n",
       "      <th>0</th>\n",
       "      <td>3</td>\n",
       "      <td>?</td>\n",
       "      <td>alfa-romero</td>\n",
       "      <td>gas</td>\n",
       "      <td>std</td>\n",
       "      <td>two</td>\n",
       "      <td>convertible</td>\n",
       "      <td>rwd</td>\n",
       "      <td>front</td>\n",
       "      <td>88.6</td>\n",
       "      <td>168.8</td>\n",
       "      <td>64.1</td>\n",
       "      <td>48.8</td>\n",
       "      <td>2548</td>\n",
       "      <td>dohc</td>\n",
       "      <td>four</td>\n",
       "      <td>130</td>\n",
       "      <td>mpfi</td>\n",
       "      <td>3.47</td>\n",
       "      <td>2.68</td>\n",
       "      <td>9.0</td>\n",
       "      <td>111</td>\n",
       "      <td>5000</td>\n",
       "      <td>21</td>\n",
       "      <td>27</td>\n",
       "      <td>13495</td>\n",
       "    </tr>\n",
       "    <tr>\n",
       "      <th>1</th>\n",
       "      <td>3</td>\n",
       "      <td>?</td>\n",
       "      <td>alfa-romero</td>\n",
       "      <td>gas</td>\n",
       "      <td>std</td>\n",
       "      <td>two</td>\n",
       "      <td>convertible</td>\n",
       "      <td>rwd</td>\n",
       "      <td>front</td>\n",
       "      <td>88.6</td>\n",
       "      <td>168.8</td>\n",
       "      <td>64.1</td>\n",
       "      <td>48.8</td>\n",
       "      <td>2548</td>\n",
       "      <td>dohc</td>\n",
       "      <td>four</td>\n",
       "      <td>130</td>\n",
       "      <td>mpfi</td>\n",
       "      <td>3.47</td>\n",
       "      <td>2.68</td>\n",
       "      <td>9.0</td>\n",
       "      <td>111</td>\n",
       "      <td>5000</td>\n",
       "      <td>21</td>\n",
       "      <td>27</td>\n",
       "      <td>16500</td>\n",
       "    </tr>\n",
       "    <tr>\n",
       "      <th>2</th>\n",
       "      <td>1</td>\n",
       "      <td>?</td>\n",
       "      <td>alfa-romero</td>\n",
       "      <td>gas</td>\n",
       "      <td>std</td>\n",
       "      <td>two</td>\n",
       "      <td>hatchback</td>\n",
       "      <td>rwd</td>\n",
       "      <td>front</td>\n",
       "      <td>94.5</td>\n",
       "      <td>171.2</td>\n",
       "      <td>65.5</td>\n",
       "      <td>52.4</td>\n",
       "      <td>2823</td>\n",
       "      <td>ohcv</td>\n",
       "      <td>six</td>\n",
       "      <td>152</td>\n",
       "      <td>mpfi</td>\n",
       "      <td>2.68</td>\n",
       "      <td>3.47</td>\n",
       "      <td>9.0</td>\n",
       "      <td>154</td>\n",
       "      <td>5000</td>\n",
       "      <td>19</td>\n",
       "      <td>26</td>\n",
       "      <td>16500</td>\n",
       "    </tr>\n",
       "    <tr>\n",
       "      <th>3</th>\n",
       "      <td>2</td>\n",
       "      <td>164</td>\n",
       "      <td>audi</td>\n",
       "      <td>gas</td>\n",
       "      <td>std</td>\n",
       "      <td>four</td>\n",
       "      <td>sedan</td>\n",
       "      <td>fwd</td>\n",
       "      <td>front</td>\n",
       "      <td>99.8</td>\n",
       "      <td>176.6</td>\n",
       "      <td>66.2</td>\n",
       "      <td>54.3</td>\n",
       "      <td>2337</td>\n",
       "      <td>ohc</td>\n",
       "      <td>four</td>\n",
       "      <td>109</td>\n",
       "      <td>mpfi</td>\n",
       "      <td>3.19</td>\n",
       "      <td>3.40</td>\n",
       "      <td>10.0</td>\n",
       "      <td>102</td>\n",
       "      <td>5500</td>\n",
       "      <td>24</td>\n",
       "      <td>30</td>\n",
       "      <td>13950</td>\n",
       "    </tr>\n",
       "    <tr>\n",
       "      <th>4</th>\n",
       "      <td>2</td>\n",
       "      <td>164</td>\n",
       "      <td>audi</td>\n",
       "      <td>gas</td>\n",
       "      <td>std</td>\n",
       "      <td>four</td>\n",
       "      <td>sedan</td>\n",
       "      <td>4wd</td>\n",
       "      <td>front</td>\n",
       "      <td>99.4</td>\n",
       "      <td>176.6</td>\n",
       "      <td>66.4</td>\n",
       "      <td>54.3</td>\n",
       "      <td>2824</td>\n",
       "      <td>ohc</td>\n",
       "      <td>five</td>\n",
       "      <td>136</td>\n",
       "      <td>mpfi</td>\n",
       "      <td>3.19</td>\n",
       "      <td>3.40</td>\n",
       "      <td>8.0</td>\n",
       "      <td>115</td>\n",
       "      <td>5500</td>\n",
       "      <td>18</td>\n",
       "      <td>22</td>\n",
       "      <td>17450</td>\n",
       "    </tr>\n",
       "    <tr>\n",
       "      <th>...</th>\n",
       "      <td>...</td>\n",
       "      <td>...</td>\n",
       "      <td>...</td>\n",
       "      <td>...</td>\n",
       "      <td>...</td>\n",
       "      <td>...</td>\n",
       "      <td>...</td>\n",
       "      <td>...</td>\n",
       "      <td>...</td>\n",
       "      <td>...</td>\n",
       "      <td>...</td>\n",
       "      <td>...</td>\n",
       "      <td>...</td>\n",
       "      <td>...</td>\n",
       "      <td>...</td>\n",
       "      <td>...</td>\n",
       "      <td>...</td>\n",
       "      <td>...</td>\n",
       "      <td>...</td>\n",
       "      <td>...</td>\n",
       "      <td>...</td>\n",
       "      <td>...</td>\n",
       "      <td>...</td>\n",
       "      <td>...</td>\n",
       "      <td>...</td>\n",
       "      <td>...</td>\n",
       "    </tr>\n",
       "    <tr>\n",
       "      <th>95</th>\n",
       "      <td>1</td>\n",
       "      <td>128</td>\n",
       "      <td>nissan</td>\n",
       "      <td>gas</td>\n",
       "      <td>std</td>\n",
       "      <td>two</td>\n",
       "      <td>hatchback</td>\n",
       "      <td>fwd</td>\n",
       "      <td>front</td>\n",
       "      <td>94.5</td>\n",
       "      <td>165.6</td>\n",
       "      <td>63.8</td>\n",
       "      <td>53.3</td>\n",
       "      <td>2028</td>\n",
       "      <td>ohc</td>\n",
       "      <td>four</td>\n",
       "      <td>97</td>\n",
       "      <td>2bbl</td>\n",
       "      <td>3.15</td>\n",
       "      <td>3.29</td>\n",
       "      <td>9.4</td>\n",
       "      <td>69</td>\n",
       "      <td>5200</td>\n",
       "      <td>31</td>\n",
       "      <td>37</td>\n",
       "      <td>7799</td>\n",
       "    </tr>\n",
       "    <tr>\n",
       "      <th>96</th>\n",
       "      <td>1</td>\n",
       "      <td>122</td>\n",
       "      <td>nissan</td>\n",
       "      <td>gas</td>\n",
       "      <td>std</td>\n",
       "      <td>four</td>\n",
       "      <td>sedan</td>\n",
       "      <td>fwd</td>\n",
       "      <td>front</td>\n",
       "      <td>94.5</td>\n",
       "      <td>165.3</td>\n",
       "      <td>63.8</td>\n",
       "      <td>54.5</td>\n",
       "      <td>1971</td>\n",
       "      <td>ohc</td>\n",
       "      <td>four</td>\n",
       "      <td>97</td>\n",
       "      <td>2bbl</td>\n",
       "      <td>3.15</td>\n",
       "      <td>3.29</td>\n",
       "      <td>9.4</td>\n",
       "      <td>69</td>\n",
       "      <td>5200</td>\n",
       "      <td>31</td>\n",
       "      <td>37</td>\n",
       "      <td>7499</td>\n",
       "    </tr>\n",
       "    <tr>\n",
       "      <th>97</th>\n",
       "      <td>1</td>\n",
       "      <td>103</td>\n",
       "      <td>nissan</td>\n",
       "      <td>gas</td>\n",
       "      <td>std</td>\n",
       "      <td>four</td>\n",
       "      <td>wagon</td>\n",
       "      <td>fwd</td>\n",
       "      <td>front</td>\n",
       "      <td>94.5</td>\n",
       "      <td>170.2</td>\n",
       "      <td>63.8</td>\n",
       "      <td>53.5</td>\n",
       "      <td>2037</td>\n",
       "      <td>ohc</td>\n",
       "      <td>four</td>\n",
       "      <td>97</td>\n",
       "      <td>2bbl</td>\n",
       "      <td>3.15</td>\n",
       "      <td>3.29</td>\n",
       "      <td>9.4</td>\n",
       "      <td>69</td>\n",
       "      <td>5200</td>\n",
       "      <td>31</td>\n",
       "      <td>37</td>\n",
       "      <td>7999</td>\n",
       "    </tr>\n",
       "    <tr>\n",
       "      <th>98</th>\n",
       "      <td>2</td>\n",
       "      <td>168</td>\n",
       "      <td>nissan</td>\n",
       "      <td>gas</td>\n",
       "      <td>std</td>\n",
       "      <td>two</td>\n",
       "      <td>hardtop</td>\n",
       "      <td>fwd</td>\n",
       "      <td>front</td>\n",
       "      <td>95.1</td>\n",
       "      <td>162.4</td>\n",
       "      <td>63.8</td>\n",
       "      <td>53.3</td>\n",
       "      <td>2008</td>\n",
       "      <td>ohc</td>\n",
       "      <td>four</td>\n",
       "      <td>97</td>\n",
       "      <td>2bbl</td>\n",
       "      <td>3.15</td>\n",
       "      <td>3.29</td>\n",
       "      <td>9.4</td>\n",
       "      <td>69</td>\n",
       "      <td>5200</td>\n",
       "      <td>31</td>\n",
       "      <td>37</td>\n",
       "      <td>8249</td>\n",
       "    </tr>\n",
       "    <tr>\n",
       "      <th>99</th>\n",
       "      <td>0</td>\n",
       "      <td>106</td>\n",
       "      <td>nissan</td>\n",
       "      <td>gas</td>\n",
       "      <td>std</td>\n",
       "      <td>four</td>\n",
       "      <td>hatchback</td>\n",
       "      <td>fwd</td>\n",
       "      <td>front</td>\n",
       "      <td>97.2</td>\n",
       "      <td>173.4</td>\n",
       "      <td>65.2</td>\n",
       "      <td>54.7</td>\n",
       "      <td>2324</td>\n",
       "      <td>ohc</td>\n",
       "      <td>four</td>\n",
       "      <td>120</td>\n",
       "      <td>2bbl</td>\n",
       "      <td>3.33</td>\n",
       "      <td>3.47</td>\n",
       "      <td>8.5</td>\n",
       "      <td>97</td>\n",
       "      <td>5200</td>\n",
       "      <td>27</td>\n",
       "      <td>34</td>\n",
       "      <td>8949</td>\n",
       "    </tr>\n",
       "  </tbody>\n",
       "</table>\n",
       "<p>100 rows × 26 columns</p>\n",
       "</div>"
      ],
      "text/plain": [
       "    symboling normalized-losses         make fuel-type aspiration  \\\n",
       "0           3                 ?  alfa-romero       gas        std   \n",
       "1           3                 ?  alfa-romero       gas        std   \n",
       "2           1                 ?  alfa-romero       gas        std   \n",
       "3           2               164         audi       gas        std   \n",
       "4           2               164         audi       gas        std   \n",
       "..        ...               ...          ...       ...        ...   \n",
       "95          1               128       nissan       gas        std   \n",
       "96          1               122       nissan       gas        std   \n",
       "97          1               103       nissan       gas        std   \n",
       "98          2               168       nissan       gas        std   \n",
       "99          0               106       nissan       gas        std   \n",
       "\n",
       "   num-of-doors   body-style drive-wheels engine-location  wheel-base  length  \\\n",
       "0           two  convertible          rwd           front        88.6   168.8   \n",
       "1           two  convertible          rwd           front        88.6   168.8   \n",
       "2           two    hatchback          rwd           front        94.5   171.2   \n",
       "3          four        sedan          fwd           front        99.8   176.6   \n",
       "4          four        sedan          4wd           front        99.4   176.6   \n",
       "..          ...          ...          ...             ...         ...     ...   \n",
       "95          two    hatchback          fwd           front        94.5   165.6   \n",
       "96         four        sedan          fwd           front        94.5   165.3   \n",
       "97         four        wagon          fwd           front        94.5   170.2   \n",
       "98          two      hardtop          fwd           front        95.1   162.4   \n",
       "99         four    hatchback          fwd           front        97.2   173.4   \n",
       "\n",
       "    width  height  curb-weight engine-type num-of-cylinders  engine-size  \\\n",
       "0    64.1    48.8         2548        dohc             four          130   \n",
       "1    64.1    48.8         2548        dohc             four          130   \n",
       "2    65.5    52.4         2823        ohcv              six          152   \n",
       "3    66.2    54.3         2337         ohc             four          109   \n",
       "4    66.4    54.3         2824         ohc             five          136   \n",
       "..    ...     ...          ...         ...              ...          ...   \n",
       "95   63.8    53.3         2028         ohc             four           97   \n",
       "96   63.8    54.5         1971         ohc             four           97   \n",
       "97   63.8    53.5         2037         ohc             four           97   \n",
       "98   63.8    53.3         2008         ohc             four           97   \n",
       "99   65.2    54.7         2324         ohc             four          120   \n",
       "\n",
       "   fuel-system  bore stroke  compression-ratio horsepower peak-rpm  city-mpg  \\\n",
       "0         mpfi  3.47   2.68                9.0        111     5000        21   \n",
       "1         mpfi  3.47   2.68                9.0        111     5000        21   \n",
       "2         mpfi  2.68   3.47                9.0        154     5000        19   \n",
       "3         mpfi  3.19   3.40               10.0        102     5500        24   \n",
       "4         mpfi  3.19   3.40                8.0        115     5500        18   \n",
       "..         ...   ...    ...                ...        ...      ...       ...   \n",
       "95        2bbl  3.15   3.29                9.4         69     5200        31   \n",
       "96        2bbl  3.15   3.29                9.4         69     5200        31   \n",
       "97        2bbl  3.15   3.29                9.4         69     5200        31   \n",
       "98        2bbl  3.15   3.29                9.4         69     5200        31   \n",
       "99        2bbl  3.33   3.47                8.5         97     5200        27   \n",
       "\n",
       "    highway-mpg  price  \n",
       "0            27  13495  \n",
       "1            27  16500  \n",
       "2            26  16500  \n",
       "3            30  13950  \n",
       "4            22  17450  \n",
       "..          ...    ...  \n",
       "95           37   7799  \n",
       "96           37   7499  \n",
       "97           37   7999  \n",
       "98           37   8249  \n",
       "99           34   8949  \n",
       "\n",
       "[100 rows x 26 columns]"
      ]
     },
     "execution_count": 4,
     "metadata": {},
     "output_type": "execute_result"
    }
   ],
   "source": [
    "data = pd.read_csv(r\"data\\imports-85.txt\",names=['symboling', 'normalized-losses', 'make', 'fuel-type', \n",
    "                                           'aspiration', 'num-of-doors','body-style','drive-wheels',\n",
    "                                           'engine-location','wheel-base','length','width','height',\n",
    "                                           'curb-weight','engine-type','num-of-cylinders','engine-size',\n",
    "                                           'fuel-system','bore','stroke','compression-ratio','horsepower',\n",
    "                                          'peak-rpm','city-mpg','highway-mpg','price'])\n",
    "\n",
    "data.head(100)"
   ]
  },
  {
   "cell_type": "code",
   "execution_count": 5,
   "metadata": {},
   "outputs": [
    {
     "data": {
      "text/plain": [
       "array(['two', 'four'], dtype=object)"
      ]
     },
     "execution_count": 5,
     "metadata": {},
     "output_type": "execute_result"
    }
   ],
   "source": [
    "data = data.drop(data[data['num-of-doors'] == '?'].index)\n",
    "data = data[data[:] != '?'].iloc[:,:] #найдем все пропуски в данных и заменим их на медианный\n",
    "data.fillna(data.median(),inplace = True)\n",
    "#data[\"num-of-doors\"] = data[\"num-of-doors\"].map(dict(two=0, four=1))\n",
    "data[\"num-of-doors\"].unique() #проверим бинарный признак"
   ]
  },
  {
   "cell_type": "markdown",
   "metadata": {},
   "source": [
    "# CatBoostClassifier\n",
    "\n",
    "Применить классификатор CatBoostClassifier к вашему датасету (бинарная или multiclass классификация по желанию).\n",
    "Можно работать на тех же данных, что и в предыдущей Л.Р.: в этом случае сравнить с результатами лучшего классификатора из предыдущей работы."
   ]
  },
  {
   "cell_type": "code",
   "execution_count": 6,
   "metadata": {},
   "outputs": [],
   "source": [
    "import sklearn.model_selection\n",
    "from sklearn.metrics import classification_report,confusion_matrix\n",
    "from sklearn import metrics\n",
    "from sklearn.metrics import precision_recall_curve\n",
    "from sklearn.metrics import f1_score\n",
    "from sklearn.metrics import auc"
   ]
  },
  {
   "cell_type": "code",
   "execution_count": 7,
   "metadata": {},
   "outputs": [
    {
     "name": "stdout",
     "output_type": "stream",
     "text": [
      "[0, 2, 3, 4, 5, 6, 7, 13, 14, 16]\n"
     ]
    }
   ],
   "source": [
    "y = data[\"num-of-doors\"]\n",
    "X = data.drop(\"num-of-doors\", axis=1)\n",
    "cat_features = list([0,2,3,4,5,6,7,13,14,16]) #задаем колонки категориальных признаков\n",
    "print(cat_features)"
   ]
  },
  {
   "cell_type": "code",
   "execution_count": 8,
   "metadata": {},
   "outputs": [],
   "source": [
    "X_train, X_test, y_train, y_test = sklearn.model_selection.train_test_split(\n",
    "    X, y, random_state = 0\n",
    ")"
   ]
  },
  {
   "cell_type": "code",
   "execution_count": 9,
   "metadata": {},
   "outputs": [
    {
     "name": "stdout",
     "output_type": "stream",
     "text": [
      "Model is fitted: True\n",
      "Model params:\n",
      "{'iterations': 100, 'learning_rate': 0.1, 'loss_function': 'Logloss'}\n"
     ]
    }
   ],
   "source": [
    "model = CatBoostClassifier(\n",
    "    iterations=100,\n",
    "    learning_rate=0.1,\n",
    "    loss_function='Logloss', \n",
    ")\n",
    "model.fit(\n",
    "    X_train, y_train,\n",
    "    cat_features=cat_features,\n",
    "    eval_set=(X_test, y_test),\n",
    "    verbose = False\n",
    "    \n",
    ")\n",
    "\n",
    "print('Model is fitted: ' + str(model.is_fitted()))\n",
    "print('Model params:')\n",
    "print(model.get_params())"
   ]
  },
  {
   "cell_type": "markdown",
   "metadata": {},
   "source": [
    "### Вывести итерацию с наилучшим значением AUC (для бинарной классификации) или наилучшим значением Logloss"
   ]
  },
  {
   "cell_type": "code",
   "execution_count": 10,
   "metadata": {},
   "outputs": [
    {
     "name": "stdout",
     "output_type": "stream",
     "text": [
      "Итерация с наименьшим logloss: 12\n"
     ]
    }
   ],
   "source": [
    "print('Итерация с наименьшим logloss: ' + str(model.get_best_iteration()))"
   ]
  },
  {
   "cell_type": "code",
   "execution_count": 11,
   "metadata": {},
   "outputs": [
    {
     "data": {
      "text/plain": [
       "{'learn': {'Logloss': 0.02763345062205948},\n",
       " 'validation': {'Logloss': 0.3717899272574765}}"
      ]
     },
     "execution_count": 11,
     "metadata": {},
     "output_type": "execute_result"
    }
   ],
   "source": [
    "model.best_score_ #значение на этой итерации"
   ]
  },
  {
   "cell_type": "code",
   "execution_count": 12,
   "metadata": {},
   "outputs": [],
   "source": [
    "predictions = model.predict(X_test)"
   ]
  },
  {
   "cell_type": "code",
   "execution_count": 13,
   "metadata": {},
   "outputs": [
    {
     "name": "stdout",
     "output_type": "stream",
     "text": [
      "18      two\n",
      "46      two\n",
      "34      two\n",
      "38      two\n",
      "111    four\n",
      "92     four\n",
      "5       two\n",
      "126     two\n",
      "12      two\n",
      "155    four\n",
      "62     four\n",
      "188    four\n",
      "168     two\n",
      "162    four\n",
      "157    four\n",
      "7      four\n",
      "131     two\n",
      "133    four\n",
      "77      two\n",
      "68     four\n",
      "45     four\n",
      "148    four\n",
      "65     four\n",
      "137    four\n",
      "88     four\n",
      "143    four\n",
      "189     two\n",
      "183     two\n",
      "163     two\n",
      "98      two\n",
      "204    four\n",
      "61      two\n",
      "16      two\n",
      "76      two\n",
      "82      two\n",
      "22      two\n",
      "73     four\n",
      "99     four\n",
      "4      four\n",
      "164     two\n",
      "127     two\n",
      "118     two\n",
      "56      two\n",
      "26     four\n",
      "132     two\n",
      "179     two\n",
      "112    four\n",
      "8      four\n",
      "91      two\n",
      "171     two\n",
      "78      two\n",
      "Name: num-of-doors, dtype: object\n"
     ]
    }
   ],
   "source": [
    "print(y_test) # '0' = two num-of-doors, '1' = four num-of-doors"
   ]
  },
  {
   "cell_type": "markdown",
   "metadata": {},
   "source": [
    "### Вывести значения метрик качества классификации на тестовых данных"
   ]
  },
  {
   "cell_type": "code",
   "execution_count": 14,
   "metadata": {},
   "outputs": [
    {
     "name": "stdout",
     "output_type": "stream",
     "text": [
      "              precision    recall  f1-score   support\n",
      "\n",
      "         two       0.96      0.79      0.86        28\n",
      "        four       0.79      0.96      0.86        23\n",
      "\n",
      "    accuracy                           0.86        51\n",
      "   macro avg       0.87      0.87      0.86        51\n",
      "weighted avg       0.88      0.86      0.86        51\n",
      "\n"
     ]
    }
   ],
   "source": [
    "print(sklearn.metrics.classification_report( #смотрим на табличку метрик\n",
    "    model.predict(X_test), y_test, target_names=[\"two\", \"four\"]\n",
    ") )"
   ]
  },
  {
   "cell_type": "markdown",
   "metadata": {},
   "source": [
    "----\n",
    "> Доля правильных ответов для \"Random Forest\": `0.8709677419354839` <br>\n",
    "Доля правильных ответов для \"catboostclassifier\": `0.86`"
   ]
  },
  {
   "cell_type": "markdown",
   "metadata": {},
   "source": [
    "## CatBoostRegressor"
   ]
  },
  {
   "cell_type": "markdown",
   "metadata": {},
   "source": [
    "### Применить регрессию CatBoostRegressor к датасету "
   ]
  },
  {
   "cell_type": "code",
   "execution_count": 15,
   "metadata": {},
   "outputs": [],
   "source": [
    "data1 = data \n",
    "col = list(['make','body-style','drive-wheels', #запишем в лист все катигориальные колонки\n",
    "            'fuel-system','engine-type','fuel-type',\n",
    "           'aspiration','num-of-doors','engine-location','num-of-cylinders'])"
   ]
  },
  {
   "cell_type": "code",
   "execution_count": 16,
   "metadata": {},
   "outputs": [],
   "source": [
    "for num in col: #факторизуем категориальные признаки\n",
    "    data1[num] = pd.factorize(data[num])[0]"
   ]
  },
  {
   "cell_type": "code",
   "execution_count": 17,
   "metadata": {},
   "outputs": [
    {
     "data": {
      "text/html": [
       "<div>\n",
       "<style scoped>\n",
       "    .dataframe tbody tr th:only-of-type {\n",
       "        vertical-align: middle;\n",
       "    }\n",
       "\n",
       "    .dataframe tbody tr th {\n",
       "        vertical-align: top;\n",
       "    }\n",
       "\n",
       "    .dataframe thead th {\n",
       "        text-align: right;\n",
       "    }\n",
       "</style>\n",
       "<table border=\"1\" class=\"dataframe\">\n",
       "  <thead>\n",
       "    <tr style=\"text-align: right;\">\n",
       "      <th></th>\n",
       "      <th>symboling</th>\n",
       "      <th>normalized-losses</th>\n",
       "      <th>make</th>\n",
       "      <th>fuel-type</th>\n",
       "      <th>aspiration</th>\n",
       "      <th>num-of-doors</th>\n",
       "      <th>body-style</th>\n",
       "      <th>drive-wheels</th>\n",
       "      <th>engine-location</th>\n",
       "      <th>wheel-base</th>\n",
       "      <th>length</th>\n",
       "      <th>width</th>\n",
       "      <th>height</th>\n",
       "      <th>curb-weight</th>\n",
       "      <th>engine-type</th>\n",
       "      <th>num-of-cylinders</th>\n",
       "      <th>engine-size</th>\n",
       "      <th>fuel-system</th>\n",
       "      <th>bore</th>\n",
       "      <th>stroke</th>\n",
       "      <th>compression-ratio</th>\n",
       "      <th>horsepower</th>\n",
       "      <th>peak-rpm</th>\n",
       "      <th>city-mpg</th>\n",
       "      <th>highway-mpg</th>\n",
       "      <th>price</th>\n",
       "    </tr>\n",
       "  </thead>\n",
       "  <tbody>\n",
       "    <tr>\n",
       "      <th>0</th>\n",
       "      <td>3</td>\n",
       "      <td>115</td>\n",
       "      <td>0</td>\n",
       "      <td>0</td>\n",
       "      <td>0</td>\n",
       "      <td>0</td>\n",
       "      <td>0</td>\n",
       "      <td>0</td>\n",
       "      <td>0</td>\n",
       "      <td>88.6</td>\n",
       "      <td>168.8</td>\n",
       "      <td>64.1</td>\n",
       "      <td>48.8</td>\n",
       "      <td>2548</td>\n",
       "      <td>0</td>\n",
       "      <td>0</td>\n",
       "      <td>130</td>\n",
       "      <td>0</td>\n",
       "      <td>3.47</td>\n",
       "      <td>2.68</td>\n",
       "      <td>9.0</td>\n",
       "      <td>111</td>\n",
       "      <td>5000</td>\n",
       "      <td>21</td>\n",
       "      <td>27</td>\n",
       "      <td>13495</td>\n",
       "    </tr>\n",
       "    <tr>\n",
       "      <th>1</th>\n",
       "      <td>3</td>\n",
       "      <td>115</td>\n",
       "      <td>0</td>\n",
       "      <td>0</td>\n",
       "      <td>0</td>\n",
       "      <td>0</td>\n",
       "      <td>0</td>\n",
       "      <td>0</td>\n",
       "      <td>0</td>\n",
       "      <td>88.6</td>\n",
       "      <td>168.8</td>\n",
       "      <td>64.1</td>\n",
       "      <td>48.8</td>\n",
       "      <td>2548</td>\n",
       "      <td>0</td>\n",
       "      <td>0</td>\n",
       "      <td>130</td>\n",
       "      <td>0</td>\n",
       "      <td>3.47</td>\n",
       "      <td>2.68</td>\n",
       "      <td>9.0</td>\n",
       "      <td>111</td>\n",
       "      <td>5000</td>\n",
       "      <td>21</td>\n",
       "      <td>27</td>\n",
       "      <td>16500</td>\n",
       "    </tr>\n",
       "    <tr>\n",
       "      <th>2</th>\n",
       "      <td>1</td>\n",
       "      <td>115</td>\n",
       "      <td>0</td>\n",
       "      <td>0</td>\n",
       "      <td>0</td>\n",
       "      <td>0</td>\n",
       "      <td>1</td>\n",
       "      <td>0</td>\n",
       "      <td>0</td>\n",
       "      <td>94.5</td>\n",
       "      <td>171.2</td>\n",
       "      <td>65.5</td>\n",
       "      <td>52.4</td>\n",
       "      <td>2823</td>\n",
       "      <td>1</td>\n",
       "      <td>1</td>\n",
       "      <td>152</td>\n",
       "      <td>0</td>\n",
       "      <td>2.68</td>\n",
       "      <td>3.47</td>\n",
       "      <td>9.0</td>\n",
       "      <td>154</td>\n",
       "      <td>5000</td>\n",
       "      <td>19</td>\n",
       "      <td>26</td>\n",
       "      <td>16500</td>\n",
       "    </tr>\n",
       "  </tbody>\n",
       "</table>\n",
       "</div>"
      ],
      "text/plain": [
       "   symboling normalized-losses  make  fuel-type  aspiration  num-of-doors  \\\n",
       "0          3               115     0          0           0             0   \n",
       "1          3               115     0          0           0             0   \n",
       "2          1               115     0          0           0             0   \n",
       "\n",
       "   body-style  drive-wheels  engine-location  wheel-base  length  width  \\\n",
       "0           0             0                0        88.6   168.8   64.1   \n",
       "1           0             0                0        88.6   168.8   64.1   \n",
       "2           1             0                0        94.5   171.2   65.5   \n",
       "\n",
       "   height  curb-weight  engine-type  num-of-cylinders  engine-size  \\\n",
       "0    48.8         2548            0                 0          130   \n",
       "1    48.8         2548            0                 0          130   \n",
       "2    52.4         2823            1                 1          152   \n",
       "\n",
       "   fuel-system  bore stroke  compression-ratio horsepower peak-rpm  city-mpg  \\\n",
       "0            0  3.47   2.68                9.0        111     5000        21   \n",
       "1            0  3.47   2.68                9.0        111     5000        21   \n",
       "2            0  2.68   3.47                9.0        154     5000        19   \n",
       "\n",
       "   highway-mpg  price  \n",
       "0           27  13495  \n",
       "1           27  16500  \n",
       "2           26  16500  "
      ]
     },
     "execution_count": 17,
     "metadata": {},
     "output_type": "execute_result"
    }
   ],
   "source": [
    "data1.head(3)"
   ]
  },
  {
   "cell_type": "code",
   "execution_count": 18,
   "metadata": {},
   "outputs": [],
   "source": [
    "y_r = data1[\"num-of-doors\"]\n",
    "X_r = data1.drop(\"num-of-doors\", axis=1)"
   ]
  },
  {
   "cell_type": "code",
   "execution_count": 19,
   "metadata": {},
   "outputs": [],
   "source": [
    "X_train_r, X_test_r, y_train_r, y_test_r = sklearn.model_selection.train_test_split(\n",
    "    X_r, y_r, random_state = 0\n",
    ")"
   ]
  },
  {
   "cell_type": "markdown",
   "metadata": {},
   "source": [
    "### Вывести номер итерации с значения метрик (MAE и MSE) для наилучшей итерации."
   ]
  },
  {
   "cell_type": "markdown",
   "metadata": {},
   "source": [
    "> Для loss function MSE"
   ]
  },
  {
   "cell_type": "code",
   "execution_count": 20,
   "metadata": {},
   "outputs": [
    {
     "data": {
      "text/plain": [
       "<catboost.core.CatBoostRegressor at 0x26ad89709d0>"
      ]
     },
     "execution_count": 20,
     "metadata": {},
     "output_type": "execute_result"
    }
   ],
   "source": [
    "model_r = CatBoostRegressor(iterations=500, learning_rate=0.1, use_best_model=True, loss_function = 'RMSE') #создаем и скармливаем выборку КБ\n",
    "model_r.fit(X_train_r, y_train_r, verbose=False, eval_set=(X_test_r, y_test_r))"
   ]
  },
  {
   "cell_type": "code",
   "execution_count": 21,
   "metadata": {},
   "outputs": [
    {
     "name": "stdout",
     "output_type": "stream",
     "text": [
      "Наилучшая итерация: 98\n"
     ]
    }
   ],
   "source": [
    "print('Наилучшая итерация: ' + str(model_r.get_best_iteration())) #наилучшая итерация"
   ]
  },
  {
   "cell_type": "code",
   "execution_count": 22,
   "metadata": {},
   "outputs": [
    {
     "name": "stdout",
     "output_type": "stream",
     "text": [
      "MAE: 0.2319734838190081\n",
      "MSE: 0.11140620857227031\n"
     ]
    }
   ],
   "source": [
    "print('MAE: ' + str(sklearn.metrics.mean_absolute_error(y_test_r, model_r.predict(data=X_test_r))))#считаем метрики\n",
    "print('MSE: ' + str(sklearn.metrics.mean_squared_error(y_test_r, model_r.predict(data=X_test_r))))"
   ]
  },
  {
   "cell_type": "markdown",
   "metadata": {},
   "source": [
    "> Для loss function MAE"
   ]
  },
  {
   "cell_type": "code",
   "execution_count": 23,
   "metadata": {},
   "outputs": [
    {
     "data": {
      "text/plain": [
       "<catboost.core.CatBoostRegressor at 0x26ad8980310>"
      ]
     },
     "execution_count": 23,
     "metadata": {},
     "output_type": "execute_result"
    }
   ],
   "source": [
    "model_r = CatBoostRegressor(iterations=500, learning_rate=0.1, use_best_model=True, loss_function = 'MAE') #создаем и скармливаем выборку КБ\n",
    "model_r.fit(X_train_r, y_train_r, verbose=False, eval_set=(X_test_r, y_test_r))"
   ]
  },
  {
   "cell_type": "code",
   "execution_count": 24,
   "metadata": {},
   "outputs": [
    {
     "name": "stdout",
     "output_type": "stream",
     "text": [
      "Наилучшая итерация: 56\n"
     ]
    }
   ],
   "source": [
    "print('Наилучшая итерация: ' + str(model_r.get_best_iteration())) #наилучшая итерация"
   ]
  },
  {
   "cell_type": "code",
   "execution_count": 25,
   "metadata": {},
   "outputs": [
    {
     "name": "stdout",
     "output_type": "stream",
     "text": [
      "MAE: 0.20449047692026215\n",
      "MSE: 0.127618952949736\n"
     ]
    }
   ],
   "source": [
    "print('MAE: ' + str(sklearn.metrics.mean_absolute_error(y_test_r, model_r.predict(data=X_test_r))))#считаем метрики\n",
    "print('MSE: ' + str(sklearn.metrics.mean_squared_error(y_test_r, model_r.predict(data=X_test_r))))"
   ]
  },
  {
   "cell_type": "markdown",
   "metadata": {},
   "source": [
    "## График для CatBoostClassifier\n",
    "\n",
    "Для бинарного классификатора на основе CatBoostClassifier построить кривые PRC и ROC. Вычислить значения PRC-AUC и ROC-AUC."
   ]
  },
  {
   "cell_type": "code",
   "execution_count": 26,
   "metadata": {},
   "outputs": [],
   "source": [
    "from catboost.utils import get_roc_curve\n",
    "import sklearn.metrics"
   ]
  },
  {
   "cell_type": "code",
   "execution_count": 27,
   "metadata": {},
   "outputs": [
    {
     "name": "stdout",
     "output_type": "stream",
     "text": [
      "ROC-AUC: 0.937888198757764\n"
     ]
    }
   ],
   "source": [
    "eval_pool = Pool(X_test, y_test, cat_features=cat_features) #наподобие класса с конструктором, чтоб передавать удобнее было\n",
    "curve = get_roc_curve(model, eval_pool)\n",
    "(fpr, tpr, thresholds) = curve\n",
    "roc_auc = sklearn.metrics.auc(fpr, tpr)\n",
    "print('ROC-AUC: ' + str(roc_auc)) #ROC AUC"
   ]
  },
  {
   "cell_type": "code",
   "execution_count": 28,
   "metadata": {},
   "outputs": [
    {
     "data": {
      "image/png": "[encoded data removed]",
      "text/plain": [
       "<Figure size 1080x360 with 1 Axes>"
      ]
     },
     "metadata": {},
     "output_type": "display_data"
    }
   ],
   "source": [
    "plt.figure(figsize=(15, 5))\n",
    "\n",
    "plt.plot(fpr, tpr, color='red', lw=3, label='ROC curve (area = %0.3f)' % roc_auc, alpha=0.5)\n",
    "\n",
    "\n",
    "plt.xlim([0.0, 1.0]) #настроим область отображения, размеры шрифта, подписи и тд\n",
    "plt.ylim([0.6, 1.05])\n",
    "plt.xticks(fontsize=16)\n",
    "plt.yticks(fontsize=16)\n",
    "plt.grid(True)\n",
    "plt.xlabel('False positive', fontsize=16)\n",
    "plt.ylabel('True positive', fontsize=16)\n",
    "plt.title('ROC curve', fontsize=24)\n",
    "plt.show()"
   ]
  },
  {
   "cell_type": "code",
   "execution_count": 29,
   "metadata": {},
   "outputs": [
    {
     "data": {
      "image/png": "[encoded data removed]",
      "text/plain": [
       "<Figure size 1080x360 with 1 Axes>"
      ]
     },
     "metadata": {},
     "output_type": "display_data"
    }
   ],
   "source": [
    "fig, ax = plt.subplots(figsize=(15, 5))\n",
    "\n",
    "\n",
    "sklearn.metrics.plot_precision_recall_curve(model, X_test, y_test, ax=ax, lw = 3)\n",
    "\n",
    "plt.xlim([0.0, 1.0])\n",
    "plt.ylim([0.6, 1.05])\n",
    "plt.xticks(fontsize=16)\n",
    "plt.yticks(fontsize=16)\n",
    "plt.grid(True)\n",
    "plt.xlabel('Recall', fontsize=16)\n",
    "plt.ylabel('Precision', fontsize=16)\n",
    "plt.title('PRC', fontsize=24)\n",
    "\n",
    "plt.show()"
   ]
  },
  {
   "cell_type": "code",
   "execution_count": 30,
   "metadata": {},
   "outputs": [
    {
     "name": "stdout",
     "output_type": "stream",
     "text": [
      "RPC-AUC: 0.9213305046695979\n"
     ]
    }
   ],
   "source": [
    "s = sklearn.metrics.average_precision_score(pd.factorize(y_test)[0], model.predict_proba(X_test)[:,0]) #RPC AUC\n",
    "print('RPC-AUC: ' + str(s))"
   ]
  },
  {
   "cell_type": "code",
   "execution_count": null,
   "metadata": {},
   "outputs": [],
   "source": []
  }
 ],
 "metadata": {
  "kernelspec": {
   "display_name": "Python 3",
   "language": "python",
   "name": "python3"
  },
  "language_info": {
   "codemirror_mode": {
    "name": "ipython",
    "version": 3
   },
   "file_extension": ".py",
   "mimetype": "text/x-python",
   "name": "python",
   "nbconvert_exporter": "python",
   "pygments_lexer": "ipython3",
   "version": "3.8.5"
  }
 },
 "nbformat": 4,
 "nbformat_minor": 4
}
