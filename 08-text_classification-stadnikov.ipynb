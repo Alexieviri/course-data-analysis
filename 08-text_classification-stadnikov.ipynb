{
 "cells": [
  {
   "cell_type": "markdown",
   "metadata": {},
   "source": [
    "Лабораторная работа № 8: **Классификация текстов**<br>\n",
    "Выполнил: **Стадников Александр, гр.6135**"
   ]
  },
  {
   "cell_type": "code",
   "execution_count": 5,
   "metadata": {},
   "outputs": [],
   "source": [
    "import pandas as pd\n",
    "import numpy as np\n",
    "import matplotlib.pyplot as plt\n",
    "import seaborn as sns\n",
    "import re\n",
    "import nltk\n",
    "\n",
    "from nltk.corpus import stopwords\n",
    "from sklearn.feature_extraction.text import CountVectorizer\n",
    "from sklearn.model_selection import train_test_split\n",
    "from sklearn.ensemble import RandomForestClassifier\n",
    "from sklearn.metrics import classification_report\n",
    "\n",
    "from nltk.stem import WordNetLemmatizer\n",
    "from sklearn.feature_extraction.text import TfidfVectorizer\n",
    "from gensim.models import word2vec\n",
    "from sklearn.metrics import confusion_matrix\n",
    "from sklearn.linear_model import LogisticRegression\n",
    "\n",
    "import warnings\n",
    "import sys  \n",
    "if not sys.warnoptions:\n",
    "    warnings.simplefilter(\"ignore\")"
   ]
  },
  {
   "cell_type": "code",
   "execution_count": 21,
   "metadata": {},
   "outputs": [
    {
     "name": "stderr",
     "output_type": "stream",
     "text": [
      "[nltk_data] Downloading package stopwords to\n",
      "[nltk_data]     C:\\Users\\79992\\AppData\\Roaming\\nltk_data...\n",
      "[nltk_data]   Unzipping corpora\\stopwords.zip.\n",
      "[nltk_data] Downloading package wordnet to\n",
      "[nltk_data]     C:\\Users\\79992\\AppData\\Roaming\\nltk_data...\n",
      "[nltk_data]   Unzipping corpora\\wordnet.zip.\n"
     ]
    },
    {
     "data": {
      "text/plain": [
       "True"
      ]
     },
     "execution_count": 21,
     "metadata": {},
     "output_type": "execute_result"
    }
   ],
   "source": [
    "nltk.download('stopwords')\n",
    "nltk.download('wordnet')"
   ]
  },
  {
   "cell_type": "markdown",
   "metadata": {},
   "source": [
    "## 1. Найти и загрузить любой датасет для классификации текстов"
   ]
  },
  {
   "cell_type": "markdown",
   "metadata": {},
   "source": [
    "**Resource:** https://www.kaggle.com/ishantjuyal/emotions-in-text\n",
    "\n",
    "**Эмоции в тексте** \n",
    "\n",
    "1. **Text** - Некоторый текст\n",
    "2. **Emotion** - Название эмоций `happy, sadness, anger, love, fear, surprise`"
   ]
  },
  {
   "cell_type": "code",
   "execution_count": 15,
   "metadata": {},
   "outputs": [
    {
     "data": {
      "text/html": [
       "<div>\n",
       "<style scoped>\n",
       "    .dataframe tbody tr th:only-of-type {\n",
       "        vertical-align: middle;\n",
       "    }\n",
       "\n",
       "    .dataframe tbody tr th {\n",
       "        vertical-align: top;\n",
       "    }\n",
       "\n",
       "    .dataframe thead th {\n",
       "        text-align: right;\n",
       "    }\n",
       "</style>\n",
       "<table border=\"1\" class=\"dataframe\">\n",
       "  <thead>\n",
       "    <tr style=\"text-align: right;\">\n",
       "      <th></th>\n",
       "      <th>Text</th>\n",
       "      <th>Emotion</th>\n",
       "    </tr>\n",
       "  </thead>\n",
       "  <tbody>\n",
       "    <tr>\n",
       "      <th>0</th>\n",
       "      <td>i didnt feel humiliated</td>\n",
       "      <td>sadness</td>\n",
       "    </tr>\n",
       "    <tr>\n",
       "      <th>1</th>\n",
       "      <td>i can go from feeling so hopeless to so damned...</td>\n",
       "      <td>sadness</td>\n",
       "    </tr>\n",
       "    <tr>\n",
       "      <th>2</th>\n",
       "      <td>im grabbing a minute to post i feel greedy wrong</td>\n",
       "      <td>anger</td>\n",
       "    </tr>\n",
       "    <tr>\n",
       "      <th>3</th>\n",
       "      <td>i am ever feeling nostalgic about the fireplac...</td>\n",
       "      <td>love</td>\n",
       "    </tr>\n",
       "    <tr>\n",
       "      <th>4</th>\n",
       "      <td>i am feeling grouchy</td>\n",
       "      <td>anger</td>\n",
       "    </tr>\n",
       "    <tr>\n",
       "      <th>...</th>\n",
       "      <td>...</td>\n",
       "      <td>...</td>\n",
       "    </tr>\n",
       "    <tr>\n",
       "      <th>95</th>\n",
       "      <td>i feel like throwing away the shitty piece of ...</td>\n",
       "      <td>sadness</td>\n",
       "    </tr>\n",
       "    <tr>\n",
       "      <th>96</th>\n",
       "      <td>im starting to feel wryly amused at the banal ...</td>\n",
       "      <td>happy</td>\n",
       "    </tr>\n",
       "    <tr>\n",
       "      <th>97</th>\n",
       "      <td>i find every body beautiful and only want peop...</td>\n",
       "      <td>happy</td>\n",
       "    </tr>\n",
       "    <tr>\n",
       "      <th>98</th>\n",
       "      <td>i hear are owners who feel victimized by their...</td>\n",
       "      <td>sadness</td>\n",
       "    </tr>\n",
       "    <tr>\n",
       "      <th>99</th>\n",
       "      <td>i say goodbye to the fam theyre all sad a cryi...</td>\n",
       "      <td>anger</td>\n",
       "    </tr>\n",
       "  </tbody>\n",
       "</table>\n",
       "<p>100 rows × 2 columns</p>\n",
       "</div>"
      ],
      "text/plain": [
       "                                                 Text  Emotion\n",
       "0                             i didnt feel humiliated  sadness\n",
       "1   i can go from feeling so hopeless to so damned...  sadness\n",
       "2    im grabbing a minute to post i feel greedy wrong    anger\n",
       "3   i am ever feeling nostalgic about the fireplac...     love\n",
       "4                                i am feeling grouchy    anger\n",
       "..                                                ...      ...\n",
       "95  i feel like throwing away the shitty piece of ...  sadness\n",
       "96  im starting to feel wryly amused at the banal ...    happy\n",
       "97  i find every body beautiful and only want peop...    happy\n",
       "98  i hear are owners who feel victimized by their...  sadness\n",
       "99  i say goodbye to the fam theyre all sad a cryi...    anger\n",
       "\n",
       "[100 rows x 2 columns]"
      ]
     },
     "execution_count": 15,
     "metadata": {},
     "output_type": "execute_result"
    }
   ],
   "source": [
    "data = pd.read_csv(r'Emotion_final.csv')\n",
    "data.head(100)"
   ]
  },
  {
   "cell_type": "markdown",
   "metadata": {},
   "source": [
    "## 2. Выводите в цикле целиком текст первых нескольких записей (этот этап естественно также должен быть отражён в блокноте), смотрите на тексты глазами, много думаете."
   ]
  },
  {
   "cell_type": "code",
   "execution_count": 19,
   "metadata": {},
   "outputs": [
    {
     "data": {
      "text/plain": [
       "array(['i think im getting the feeling that were the weird ones for using dryers most of the time',\n",
       "       'i sound so entitled but you cant help but to feel disappointed even though you already knew you were going to be',\n",
       "       'i decided to see if i could locate margaret or jeff as i feel a longing to know how they are',\n",
       "       'i am sure feeling nervous about potential air raids from the luftwaffe',\n",
       "       'i have not only not lost any yarn overs but am now done with my first lace project and feeling pretty pleased',\n",
       "       'i can t fix this and am anticipating feeling humiliated when i see workmates and friends',\n",
       "       'i feel a lil bit gloomy',\n",
       "       'They seemed anxious and hesitant about leaving , as if uncertain of which direction to ta',\n",
       "       'i feel distressed music on my mind rewrite fma op',\n",
       "       'i still feel defeated',\n",
       "       'i always thought that if i contracted something from one of those people and passed it on to him that i d feel awful but after i got the sti test i thought i was basically in the clear',\n",
       "       'i also loved bruise brothers it was so much fun playing alongside so many brilliant skaters and feeling useful on track',\n",
       "       'im sat at work feeling pressure in my ears blowing my nose and just feeling miserable',\n",
       "       'i feel very excited about the future of gaming right now',\n",
       "       'i feel like if he was innocent he wouldn t feel like he has anything to prove',\n",
       "       'i still feel pretty gloomy',\n",
       "       'i feel like screaming and if she was ugly',\n",
       "       'i started trying without success to have a baby a few years back one of my pregnant acquaintances said to me my husband and i feel so relieved that we did not have to go through what you are going through we just got pregnant right away',\n",
       "       'i feel really fucked up why do such things always happen to me',\n",
       "       'im feeling quite groggy but thats all right',\n",
       "       \"Rex watched in horror as the black claw tore Bill 's left arm from its socket and flung it far up the stre\",\n",
       "       'i definitely have a ton to learn still and i feel so hopeful about this program',\n",
       "       'i feel so honored to have so much support from my friend mona all my wonderful customers and followers on my facebook pages and my parents who drove hours just to be in the front row and help and support my endeavor',\n",
       "       'This leads to highly agitated motions and correspondingly high temperatur',\n",
       "       'i would be feeling i am genuinely shocked and surprised that he just hit jude',\n",
       "       'i was feeling a bit gloomy over the weekend maybe it was all these grey days weve been having',\n",
       "       'i don t feel guilty like i m not going to be able to cook for him',\n",
       "       'im so full of life i feel appalled',\n",
       "       'i see him he just makes me feel so gorgeous',\n",
       "       'im feeling frantic about time as if the whole summer were a giant hour glass and if im not vigilant all the sand is going to rush out in a whoosh and ill have dipshit to show for it',\n",
       "       'I sit disconsolate in the sno',\n",
       "       'i say i only sort of knew him and i don t want to make it like i m personally devastated by it i m certain those who were close with him are feeling devastated and i don t want to appropriate that or disrespect that grief',\n",
       "       'i still feel jealous of my friends when their moms talk politely with them',\n",
       "       'i kind of feel fearful of starting',\n",
       "       'i feel that it is a little dangerous to let scientists be independently funded while working in these communal labs with no supervision or regulation',\n",
       "       'i feel suspicious when i see this redundant use of the credential',\n",
       "       'i have been sneakily listen to x mas music since the beginning of october but now i feel as if it is a little more socially acceptable to prance around while eartha kitt s version of santa baby blares from my ipod',\n",
       "       'i feel really wonderful about myself and love the life i live',\n",
       "       'i feel a perverse pride in my self control that i managed to stay where i was ordered and not reach for the tempting human flesh so close before us',\n",
       "       'i was feeling a little disappointed in how little my hair had improved and the stickiness that was lingering',\n",
       "       'tutorial again a fearful feeling came to me when i sat on the chair and looked at my fellow students all around i was really scared that they would ask me some questions or challenge the ideas that i had presented',\n",
       "       'i would want them to know either i feel it isn t that important to know who had hurt me this much anymore',\n",
       "       'i feel so worthless beaten and broken',\n",
       "       'i cant even tell you how refreshed i feel exhausted',\n",
       "       'i walk to the car i feel triumphant with my secret',\n",
       "       'im feeling disgusted already but seriously though i dont really like to have my pictures taken cause ive always referred to myself as ugly',\n",
       "       'i feel quite fearful about her future other times i wonder how this happened to her or even if i did something to cause abbigail to have apraxia',\n",
       "       'i am feeling a little dissatisfied with my pictures for the last couple of months',\n",
       "       'i feel like i would have liked the ending better',\n",
       "       'It showed some women in a northern English town at the turn of the century ; they were standing under an advertisement for Mazawattee tea and seemed depresse',\n",
       "       'i feel that the pagers definitely damaged the deaf community social time',\n",
       "       'i don t want to mention the afternoon because i am a highly conscientious person who would hate like to make you feel that unsuccessful',\n",
       "       'i know but i m also upset because i increasingly get the feeling that i m a pleasant accessory',\n",
       "       'Nutty was not offen',\n",
       "       'i do have dark chocolate i may have a square if im feeling the need for a sweet',\n",
       "       'i got an a in anatomy the first one i have ever gotten in a science class here',\n",
       "       'i feel affectionate toward him',\n",
       "       'i am fucking it up with my pattern of wanting craving addiction to attention and specialness my way of feeling loved by another',\n",
       "       'Moreover , I disliked the Lady Eleanor intensely , with her sorrowful face and moping way',\n",
       "       'i only have three words to describe my feelings after viewing them im not impressed',\n",
       "       'i can spend my life condemning others i feel have wronged my people or me and yet my own consequences are strangely bitter',\n",
       "       'i denied my feelings amp claimed that we were less than what we were cause i was hesitant to jump into anything new',\n",
       "       'i am breathing well and feeling quite lively and upbeat',\n",
       "       'i can feel what hes feeling but not quite because this is his own beloved brother',\n",
       "       'i recently had a very ill and premature baby what can i do to feel less devastated',\n",
       "       'i can feel what it feels like being a girl in hypnosis only and be perfect and normal in real life',\n",
       "       'i just cant contain my joy but right now i feel troubled',\n",
       "       'i paused feeling that what would come next would be fake',\n",
       "       'i was feeling cold and wet most of the time',\n",
       "       'i feel like hiding and i also feel triumphant over apathy',\n",
       "       'i feel that she was trying to hurt me',\n",
       "       'i feel an aching tiredness that goes down to my core',\n",
       "       'i just feel so fucked up these days',\n",
       "       'i just feel extremely stressed because everything is happening so fast i cant manage to get my head around it',\n",
       "       'i do not feel disadvantaged because i believe that as long as there is humanity in the subjects there is a potential for communication and the sharing of ideas and a potential to find a common ground in language',\n",
       "       'i recognize that the fear im feeling is not from the lord and does not come from a place that is trusting and hoping only in the lord',\n",
       "       'i wont give you too much in case you feel greedy',\n",
       "       'i went to training feeling very disheartened',\n",
       "       'im feeling insecure at the moment',\n",
       "       'i feel as if work that doesnt have a sort of depth to it isnt nearly as successful as work that is created with a meaning and leaves the viewer wanting to know more about the subject that the artist presented',\n",
       "       'i al feeling rather agitated and i am not totally sure where it is coming from',\n",
       "       'im back to watching running man and i love it i got back the feeling of why i loved running man',\n",
       "       'i feel honored to have that kind of support',\n",
       "       'i do feel amused by all the different debates going on but on the other hand i felt that theres something missing',\n",
       "       'He listened soberly and with growing dismay to what the young bank officer from Jeddah had to say , and scanned the computer printouts across his desk with a practised e',\n",
       "       'i have been feeling overwhelmed and time poor',\n",
       "       'i still need to feel listened to even if iam idiotic and naive in relation',\n",
       "       'i feel lucky that theyve chosen to share their lives with me',\n",
       "       'i miss him and for me the fact that i have that feeling of longing to be with him again is actually a blessing',\n",
       "       'i was feeling ignored lied to full half or no truth omission avoidance being left out on things as if this was just a game to you and as if you really did not want me around',\n",
       "       'i was feeling adventurous so i decided to give it a new life',\n",
       "       'i feel that all music has some artistic value but with so much music out there is modern pop really worth investing your time in',\n",
       "       'i am tied down to my thoughts in class as in life i cant perform i feel ashamed and afraid to be in myself',\n",
       "       'Suddenly , to her relief , the telephone rang , Joanna picked it up , wrote down the message , and came back to the table , looking ela',\n",
       "       'i feel virtuous because i walked to and from the library which is almost a mile away and the temp was',\n",
       "       'i also got some very nice condiment type pressies whilst at our local garden centre today so i am feeling that i have achieved something towards the festive season',\n",
       "       'i can only guess that the boys are feeling shy when i m sick but honestly i could use some help now',\n",
       "       'i would feel differently if i believed that the leaders were perfectly truthful',\n",
       "       'i said what i felt needed to be said and in addition to that i was feeling bitchy',\n",
       "       'ill feel delighted', 'i feel to be the most popular right now',\n",
       "       'i feel slightly disturbed by the whole thing',\n",
       "       'i ate great and whats even better is that i feel terrific',\n",
       "       'Clare was devastated and swore that she would never go back to school agai',\n",
       "       'i feel lonely leave a comment',\n",
       "       'i just remember being so fully stressed out and while i had fun i feel it could have been more lively',\n",
       "       'i told you i never wanted you to rot in hell and most of the time i wished i was just less stupid and clumsy so that you will never ever feel unhappy',\n",
       "       'i came home one day and discovered that my sister had borrowed my car and had gotten into an accident with it my entire front bumper was destroyed',\n",
       "       'i am standing in my oversized tee shirt baggy yoga pants pulled up hair already semi sweat streaked from spin and am trying to feel graceful and sexy',\n",
       "       'i feel that if this issue isn t resolved it may result in people abandoning this wonderful plugin',\n",
       "       'i dropped martin back off i was the dd i pulled in and because i was feeling exceptionally outgoing waved and talked to some of my neighbors downstairs',\n",
       "       'i am feeling too grouchy to be properly penitential',\n",
       "       'i feel like im in this weird in between stage',\n",
       "       'i feel burdened with the subjects i am taking',\n",
       "       'i could barely leave the house and i was feeling a lot of isolation and i hated the lack of control i had over my own life because everyone else i knew was moving on with theirs',\n",
       "       'i feel like i dont even know how to trust that im trusting well enough',\n",
       "       'i feel tender when i have not done anything',\n",
       "       'i assumed it would feel casual',\n",
       "       'i read i feel like ive just enjoyed a rich journey through the history of settling the american west as well as through the values faith fortitude hard work and joy so readily cherished then and hopefully now',\n",
       "       'Her head turned restlessly on the pillow as she strove to distance herself from the increasingly excited voice of the commentator and the air-splitting whine of the high-revving engi',\n",
       "       'i mean if someone wrote fanfiction about my book and made my villain gay for say druian i d be sitting there reading it and feeling furious',\n",
       "       'i love him but i feel threatened with him around a little',\n",
       "       'i have a feeling he is much more talented than i am',\n",
       "       'i have carried around an audre lorde quote that i often refer to when i am feeling fearful or uncertain about things when i dare to be powerful to use my strength in the service of my vision then it becomes less and less important whether i am afraid',\n",
       "       'i feel hateful to have given up my friendship with that woman and a couple of others for the same reasons to admit defeat and let my husband make me feel so insecure that i feel the need to avoid her cut her out of my life so that my securities is not challenged',\n",
       "       'id gotten the feeling that her friend hated me deeply for whatever id done to her',\n",
       "       'i feel like starting with my name is susanna but i dont want to be that boring',\n",
       "       'im feeling stressed and tired and after that flight i really dont want to get on another one',\n",
       "       'i feel that poachers and others who kill animals for their pelts ivory or other parts should be punished severely i find hunting and fishing cruel',\n",
       "       'i figured my parents wont make me feel accepted so i stopped trying i turned to romantic relationships with men',\n",
       "       'i am alternating between feeling thrilled to see my dads family this weekend and terrified that i will be a black sheep among their normalcy',\n",
       "       'im feeling stressed about upcoming events drowning in feelings of being overwhelmed with how much i need to do in order to get my house back in order and the long week i have ahead of me that my husband will be out of town',\n",
       "       'i am offering two original works for immediate sale for cheaper than usual as i want to donate all the proceeds to a cause i feel very worthwhile before mid february',\n",
       "       'im feeling very optimistic about it and find myself wanting to ride more and more',\n",
       "       'i always dread that part of the meeting although dont think i didnt shoot my hand up into the air feeling all superior week when i lost',\n",
       "       'Nicky looked crestfallen but did not dare argue with Constance when she was in this moo',\n",
       "       'i said on fb i was feeling strangely discontent tonight',\n",
       "       'i feel really inspired',\n",
       "       'i love my increased intense feeling of connection to the divine',\n",
       "       'She gave him a startled ',\n",
       "       'ive just spent the last half hour feeling ridiculously angry over insensitive comments from my partner but that all changed a few minutes ago to real pride over how much i have changed',\n",
       "       'i was feeling kinda discouraged because i was stuck but today i proved to myself that i can do things that i didnt think i could do',\n",
       "       'i was so panicked i didn t feel it when my nails broke against the impenetrable wall of ice leaving red crescents of blood welling up on sensitive skin',\n",
       "       'i feel uncomfortable and slobby',\n",
       "       'But Christine felt vexed when at the next Pack Meeting Sarah lost points for the Six through being a slowco',\n",
       "       'i feel carefree and weightless and yet worried and grounded all at the same time',\n",
       "       'i am able to share my ideas without feeling stupid because they already know how dumb i can be',\n",
       "       'i feel like i have been beaten up and looking back on my week i can see why',\n",
       "       'i feel very honoured and look forward to taking up the challenge',\n",
       "       'i hope that one day i can escape tia place that i feel has held me back that has inhibited me from reaching my potential but that isnt me for decide just to pray on',\n",
       "       'i feel pressured and can not move on to other items in our wedding checklists',\n",
       "       'i get the feeling that i impressed ecker',\n",
       "       'The ready availability of a screening questionnaire that mothers at risk can complete under supervision in a few minutes is potentially useful , but only if health workers and others can rise to the needs of depressed mother',\n",
       "       'i could feel every muscle in my body working as one to move with grace i know me graceful power and control',\n",
       "       'i think i am still feeling a little groggy from that',\n",
       "       'i believe i manged to tone it down here while retaining just enough flourish to make the suit feel special',\n",
       "       'i can feel it think i determined to a href http usarious',\n",
       "       'i am feeling like a delicate wee flower and have given myself permission to lay around drinking tea and eating cream buns and reveling in my passion for poetry',\n",
       "       'i feel like i am the world for this boy and im glad that for a time i can be that for him',\n",
       "       'i dunno how else to describe how great i feel i swear ive been giggly all day',\n",
       "       'i shook it off as we walked into the expansive beijing capital international airport feeling utterly un amused at the prospect of an international transfer in china',\n",
       "       'i actually answered you pathetic fucking e mails but no thats too fucking easy just call andintrupte what was a wonderful fucking day with you trad trash what the fuck slave he felt the feeling come over him he bagan to shiver and shaken with fear',\n",
       "       'i feel it is vital that a rlsh gimmick needs to be his or her own',\n",
       "       'i feel aching andangry',\n",
       "       \"Far from experiencing simple gratitude , such children will most likely feel terribly torn and anxious when faced with their foster parents ' offer of affecti\",\n",
       "       'i am no longer a shimmer fan i mean i like subtle shimmer but this is kind of like scary shimmer where i feel like my eyes are super obvious and scary looking',\n",
       "       'i do feels amazing and is an investment for something greater',\n",
       "       'i feel like it has some necessity in a romantic relationship but too much can be very harmful in that context but that s not my problem',\n",
       "       'i feel moronic for a lot of the things i have said to people in the name of progress and i have no new ism to espouse now',\n",
       "       'i finished it feeling amazing',\n",
       "       'i started to feel some dull cramps that lasted for about two hours i thought maybe the babies didnt like mexican which is cray cray because its my favorite',\n",
       "       'i do however feel myself feeling a bit reluctant',\n",
       "       'Suddenly , to the Collector \\'s astonishment , the Padre gripped him by the throat and shouted : \" A matter of o',\n",
       "       'i feel that he is gazing me and giving a naughty smile encouraging me to study more',\n",
       "       'i am completely savouring each and every moment of the feeling of being single carefree and unbound',\n",
       "       'im feel especially affectionate toward and blessed by r shannon and the other close family friends who made my birthday very special',\n",
       "       'im not feeling very glamorous at the moment to sat the least',\n",
       "       'ive mostly gotten used to this but being kind of a stubbornly independent person it still feels a little strange at times',\n",
       "       '` I am vexed , J',\n",
       "       'i feel needy when i ask someone to hang out with me and i end up not trying after a few times of being told no i have plans sorry',\n",
       "       'i am feeling overwhelmed with excitement and anxiety as i prepare for my flight to florence in a few hours',\n",
       "       'i never worry about having to repay you or feel burdened when i couldn t afford something because we always manage to understand and have fun despite being broke which is a lot of the time',\n",
       "       'i remember sitting in my family room in dallas watching the story unfold in new york so many years ago and feeling so helpless',\n",
       "       'i feel generous this evening and id like to share a pie crust recipe to help those who have struggled with trying to make a pie',\n",
       "       'ive been having trouble sleeping my anxiety is causing my social life to suffer i lack the motivation that used to drive me work is quickly becoming a chore where i was once satisfied and i feel dull and uninteresting',\n",
       "       'i am feeling stressed and more than a bit anxious',\n",
       "       'i sit the chicken preferably bone in chicken thighs skinless because i feel they have the most flavor in a crock pot so that it becomes tender and falls apart',\n",
       "       'i feel so embarrassed about my clothes when i am at school',\n",
       "       'i feel ashamed that my two bags look like theyve erupted exploded natural disastered all over my hosts spotless stylish living room',\n",
       "       'i am now in cyprus seeing my timeline so visibly and i ask myself why do i feel so stressed at home when i could feel so relaxed like i do now',\n",
       "       'i apologise in advance i m feeling somewhat angered and stressed and the following is just going to have to come out',\n",
       "       'i feel really pumped and also am eager to try hiit high intensity interval training thanks to my new friend sarah',\n",
       "       'im starting to feel and think as if i dont want to continue to pray for him anymore because its making me feel hopeless',\n",
       "       \"` You 're cross because I was honest when I spoke to you that ni\",\n",
       "       'i just wish i didnt feel like my roommates hated me half the time',\n",
       "       'i remembered seeing these pieces and feeling so impressed by them but seeing them again i was surprised i was blinded by my memories',\n",
       "       'i am on the write track i feel contented and at peace',\n",
       "       'i feel so lucky to get to feel them',\n",
       "       'i feel delighted when i make good food',\n",
       "       'i feel ok that must be the reason why it was so outrageously priced',\n",
       "       'i feel rather disheartened suddenly',\n",
       "       'im looking forward to seeing familiar faces again saying thank you and importantly staying connected in many of the wonderful ways that make a craftisan feel like its not such an isolated life after all',\n",
       "       'i was doing some reading during a rather unpleasant plane ride the other day and didnt feel like reading unpleasant things so i skipped the uruk hai entirely and for the full reading experience should come back to it at some point',\n",
       "       'What had once been a largely invisible world of mental hospitals , private suffering , and professional services now appears in local communities as homelessness , strange persons in public , and bewilderment about who is responsible fo',\n",
       "       'im starting to feel unwelcome in there',\n",
       "       'i fucking love christmas so i ve compiled a list of fun things going on in the ol smoke to get you feeling festive',\n",
       "       'i feel incredibly disillusioned with the weekend',\n",
       "       'i could feel the cool air marillac was like a giant residential freezer flow with more ease through the teeny extra hole in my right nostril',\n",
       "       'im having my biannual mammogram and although i know it only hurts for a while im feeling unusually apprehensive',\n",
       "       'i do not always find myself feeling thankful but over the years i ve gathered a few tricks that allow me to feel grateful in the face of moments when the last thing i want to do is say thanks',\n",
       "       'i am not wishing november away or trying to forget about thanksgiving but i need to be mindful of what really matters when i feel overwhelmed',\n",
       "       'i feel weird a href http bondmusings',\n",
       "       'i do when i m feeling not too grouchy',\n",
       "       'i do however feel a bit envious of people who have different perfumes for different seasons',\n",
       "       'i was sleeping in my room but woke in the middle of the night to think i could hear noises and see shadows moving i felt that someone was in the house',\n",
       "       'i feel so unloved without you next to me but when im with you',\n",
       "       'im feeling too stressed doing homework that i dont feel like going out',\n",
       "       'i was feeling pretty satisfied with everything and i was eating fairly well also',\n",
       "       'i believe people who use fulsome manners only for social reasons they aren t on the top of the scale of human evolution and i feel hurt by their fake behavior',\n",
       "       'i feel like we all have somehow convinced ourselves that these really pointless events somehow mean everything to us',\n",
       "       'i wasn t feeling insulted over its idiocy i felt supremely bored and actually wound up fastforwarding through a few scenes',\n",
       "       'i feel irritable about the number of people that came into our office whining about their own circumstances i realize im not practicing thinking about the good things and i find it a better way to pull yourself into the present',\n",
       "       'He uttered a short sharp bark , which made Rosie jump ; she assumed it was a cough , then realised that it was intended as an expression of amusem',\n",
       "       'i feel stupid about my diamond richie mix up',\n",
       "       'i feel skeptical about it',\n",
       "       'im putting my books in a stack and wondering when ill stop feeling so sad about the passing of ray bradbury',\n",
       "       'He looked around at their delighted faces and began to feel embarras',\n",
       "       'i feel extremely boring',\n",
       "       'i began my focus on scripture a good hours ago and i still feel like a rejected woman who has no control but the feeling of abandonment has begun to subside',\n",
       "       'i was a bit too nervous to focus on the faces and the feeling was not unpleasant i wanted to put in a joke to start with especially since it involved the key note speaker and i thought it was funny',\n",
       "       'i feel his gracious hand upon my life',\n",
       "       'i am working for but that work requires opportunity certain freedoms of expression and of movement and i may sound paranoid by saying this but i feel those freedoms threatened and more and more each day',\n",
       "       'i always feel troubled when we re on the road touring living in a van or more recently in the circus buses no place to hang my hat as the song lyric has it',\n",
       "       'i wasnt feeling particularly bitter on my birthday in fact i had a fantastic day',\n",
       "       'i feel in perfect height or just height threads picture images',\n",
       "       'i feel foolish and desperate almost for feeling so strongly about this',\n",
       "       'i am looking forward to a great year in i am feeling very optimistic after a very hard yet busy',\n",
       "       'While he went up to the bar to order , Ellie settled back in her seat , and , with a rather sad light in her eyes , watched hi',\n",
       "       'ive been feeling an aching loss a void in my life in the place that she filled',\n",
       "       'i get to be creative if i feel like it or just sit and chat to customers the people are all lovely even kermit helps out see',\n",
       "       'i cant do anything about it except for feel devastated i cant do anything practical about it yet',\n",
       "       'i must admit that tonight i am feeling a bit homesick for my little',\n",
       "       'i began feeling a bit melancholy until my friend saba called asking to meet me up before waleeds birthday',\n",
       "       'im tired of feeling dumb',\n",
       "       'i sit here at munching on vegetables hummus and ranch i am feeling very distraught',\n",
       "       'i tend not to want to cook if i feel grumpy or tired or just stressed',\n",
       "       'i feel so wronged but what can i do',\n",
       "       'im not crossing things off ever growing to do list i feel like i keep making stupid silly mistakes in all areas of my life amp im just tired',\n",
       "       'i made a shocking discovery that made me feel incredibly dumb and to which i of course feel the need to share',\n",
       "       'i look down feeling alone and wantig to be that way',\n",
       "       'i feel fucked tape last year make sure you get this',\n",
       "       'i have ever seen in my life was laceys constant disapprovements of rikkis extreme happiness when she just wasnt feeling quite as carefree as he was',\n",
       "       'i realized this weekend that i am feeling somewhat apprehensive about this surgery',\n",
       "       'i feel kind of lame this time around',\n",
       "       'i can say is that as long as you enjoy the story it entertains you and makes you feel emotional whether it be sad happy angry disgusted or just plain horny then who really gives a damn',\n",
       "       'i know this is supposed to come across as funny but i can t help but feel sorry for the poor guy',\n",
       "       'i wear my perfume i feel elegant and beautiful',\n",
       "       'i can never tell him how i feel and it really sucks because i think he gets really bothered by that',\n",
       "       'i didnt feel at all deprived having it in my chai this morning',\n",
       "       'ive been coughing for the past few days now and my stomach muscles are definitely feeling rather tender the sore throat is a new development as is the runny nose',\n",
       "       'i m tryin my level best be a gud pal but i cant help if u dont understad what i feel abt u dats ur problemn i don think carin for sum is a crime img src rte emoticons smile sarcastic',\n",
       "       'i feel caring in telling you this is because to maintain a healthy weight you have to learn to not overeat on your stressful days which tend to be most days',\n",
       "       'i feel embarassed humiliated sad miserable a title permanent link to what if i have already fallen in love',\n",
       "       'i feel content just because of the weather',\n",
       "       'i spent all of wednesday feeling miserable',\n",
       "       'i feel better about myself almost tasting my success',\n",
       "       'i feel a violent tug at my eye socket',\n",
       "       'i feel as though my descriptions are skimmable and unimportant',\n",
       "       'i diss a bag only when i m feeling grouchy because of the lack of any inspiration whatsoever when it comes to fug bags but today i m not grouchy and it still sets me of which means this is a big deal',\n",
       "       \"Lin Foh seemed incensed , but kept his voice down as they reached the outside steps of the Coroner 's Co\",\n",
       "       'i feel a peaceful calm come over me',\n",
       "       'i feel her longing to be touched and all that but really with the guy who wanted to control you and make you kill other people',\n",
       "       'ive been really into the more laid back bohemian feeling style and thought these items would be perfect for a beachy california trip',\n",
       "       'i deprive myself of everything nice i end up cracking feeling terrible for eating something bad and in turn eat more of it',\n",
       "       'i feel heartless even though my heart hurts',\n",
       "       'i feel glamorous rich enough for enriching my perfume collection even more haha',\n",
       "       'i just feel discouraged because the industry is enormous what makes me special in a sea of pretty girls',\n",
       "       'i feel like the rest of the season will continue to be successful like we were at freestone',\n",
       "       'i left feeling thoroughly invigorated and ready to face a new year of craft challenges so big kudos to the wonderful organizers at hello craft for a truly awesome summit',\n",
       "       'i had spare gear on the bike to cope with two punctures but was feeling particularly paranoid about the race tyres as i had already had two punctures on the previous three times i had taken them out training',\n",
       "       'i start to see it s a problem when one afternoon i feel so depressed i can t wait the one hour until my friend comes back to talk to her',\n",
       "       'i cant sleep and re read happy posts and i go past the one about picnic day and i get so happy im like james you make me so happy i love you and then repeat as soon as i feel jealous',\n",
       "       'i dolphins feel sweet taste of victory defeat cincinnati bengals in overtime a href http twitter',\n",
       "       'i can say without a doubt that i certainly tend to eat more when i am feeling unhappy or stressed',\n",
       "       'i can process everything properly but im feeling more positive and able to resume training',\n",
       "       'when i was years old my father travelled very much for his work he passed three months away from home',\n",
       "       'i was very good in the morning as i had been to the gym and done a zumba class followed by half an hour swim which of course i cycled to and from so i was feeling very virtuous',\n",
       "       'i mean i feel even more disgusted at myself after ive moved here when im usually just disgusted at the human race in general something like that',\n",
       "       'i am raising funds for the jag foundation jointly achieving growth a charity that i feel extremely passionate about',\n",
       "       'i do not feel like supporting this country however',\n",
       "       'im not gonna lie i was kinda sad and down and feeling pretty lonely',\n",
       "       'i smiled at him feeling his longing and said maybe later buddy but i have to make lunch now',\n",
       "       'i feel the only news which soothes the troubled minds is the news from uk',\n",
       "       'i feel they are amazing unique people and i love them so very much',\n",
       "       'i feel like im not the only whos fed up with the world and im glad they trust their watchers with this kind of information',\n",
       "       'im not always able capture the essence of the way i see the world in writing i feel that my weird way of thinking has been generally consistent throughout my short years',\n",
       "       'im feeling really outgoing and i get with a really quiet person and i try to make them feel comfortable',\n",
       "       'ive been feeling a little stupid because i dont know how',\n",
       "       'i find myself feeling agitated because of how what the kids are playing i ask myself did i play this way when i was little',\n",
       "       'i seriously feel so blessed for the support that i have at home it s amazing'],\n",
       "      dtype=object)"
      ]
     },
     "execution_count": 19,
     "metadata": {},
     "output_type": "execute_result"
    }
   ],
   "source": [
    "df = data.sample(1000)\n",
    "df['Text'].values[:300]"
   ]
  },
  {
   "cell_type": "markdown",
   "metadata": {},
   "source": [
    "## 3. Находите малоинформативные повторяющиеся участки в текстах"
   ]
  },
  {
   "cell_type": "code",
   "execution_count": 26,
   "metadata": {},
   "outputs": [],
   "source": [
    "df['Cleaned'] = df['Text'].str.replace('@', '')"
   ]
  },
  {
   "cell_type": "code",
   "execution_count": 22,
   "metadata": {},
   "outputs": [],
   "source": [
    "stopwords = stopwords.words('english')"
   ]
  },
  {
   "cell_type": "code",
   "execution_count": 23,
   "metadata": {},
   "outputs": [],
   "source": [
    "def remove_stopwords(text):\n",
    "    clean_text=' '.join([word for word in text.split() if word not in stopwords])\n",
    "    return clean_text"
   ]
  },
  {
   "cell_type": "code",
   "execution_count": 27,
   "metadata": {},
   "outputs": [],
   "source": [
    "df['Cleaned'] = df['Cleaned'].apply(lambda text : remove_stopwords(text.lower()))\n",
    "df['Cleaned'] = df['Cleaned'].apply(lambda x : x.split())"
   ]
  },
  {
   "cell_type": "code",
   "execution_count": 28,
   "metadata": {},
   "outputs": [
    {
     "data": {
      "text/html": [
       "<div>\n",
       "<style scoped>\n",
       "    .dataframe tbody tr th:only-of-type {\n",
       "        vertical-align: middle;\n",
       "    }\n",
       "\n",
       "    .dataframe tbody tr th {\n",
       "        vertical-align: top;\n",
       "    }\n",
       "\n",
       "    .dataframe thead th {\n",
       "        text-align: right;\n",
       "    }\n",
       "</style>\n",
       "<table border=\"1\" class=\"dataframe\">\n",
       "  <thead>\n",
       "    <tr style=\"text-align: right;\">\n",
       "      <th></th>\n",
       "      <th>Text</th>\n",
       "      <th>Emotion</th>\n",
       "      <th>Cleaned</th>\n",
       "    </tr>\n",
       "  </thead>\n",
       "  <tbody>\n",
       "    <tr>\n",
       "      <th>9904</th>\n",
       "      <td>i think im getting the feeling that were the w...</td>\n",
       "      <td>surprise</td>\n",
       "      <td>[think, im, getting, feeling, weird, ones, usi...</td>\n",
       "    </tr>\n",
       "    <tr>\n",
       "      <th>843</th>\n",
       "      <td>i sound so entitled but you cant help but to f...</td>\n",
       "      <td>sadness</td>\n",
       "      <td>[sound, entitled, cant, help, feel, disappoint...</td>\n",
       "    </tr>\n",
       "    <tr>\n",
       "      <th>7883</th>\n",
       "      <td>i decided to see if i could locate margaret or...</td>\n",
       "      <td>love</td>\n",
       "      <td>[decided, see, could, locate, margaret, jeff, ...</td>\n",
       "    </tr>\n",
       "    <tr>\n",
       "      <th>7353</th>\n",
       "      <td>i am sure feeling nervous about potential air ...</td>\n",
       "      <td>fear</td>\n",
       "      <td>[sure, feeling, nervous, potential, air, raids...</td>\n",
       "    </tr>\n",
       "    <tr>\n",
       "      <th>16645</th>\n",
       "      <td>i have not only not lost any yarn overs but am...</td>\n",
       "      <td>happy</td>\n",
       "      <td>[lost, yarn, overs, done, first, lace, project...</td>\n",
       "    </tr>\n",
       "    <tr>\n",
       "      <th>...</th>\n",
       "      <td>...</td>\n",
       "      <td>...</td>\n",
       "      <td>...</td>\n",
       "    </tr>\n",
       "    <tr>\n",
       "      <th>17251</th>\n",
       "      <td>i also got some very nice condiment type press...</td>\n",
       "      <td>happy</td>\n",
       "      <td>[also, got, nice, condiment, type, pressies, w...</td>\n",
       "    </tr>\n",
       "    <tr>\n",
       "      <th>11077</th>\n",
       "      <td>i can only guess that the boys are feeling shy...</td>\n",
       "      <td>fear</td>\n",
       "      <td>[guess, boys, feeling, shy, sick, honestly, co...</td>\n",
       "    </tr>\n",
       "    <tr>\n",
       "      <th>709</th>\n",
       "      <td>i would feel differently if i believed that th...</td>\n",
       "      <td>happy</td>\n",
       "      <td>[would, feel, differently, believed, leaders, ...</td>\n",
       "    </tr>\n",
       "    <tr>\n",
       "      <th>4685</th>\n",
       "      <td>i said what i felt needed to be said and in ad...</td>\n",
       "      <td>anger</td>\n",
       "      <td>[said, felt, needed, said, addition, feeling, ...</td>\n",
       "    </tr>\n",
       "    <tr>\n",
       "      <th>19013</th>\n",
       "      <td>ill feel delighted</td>\n",
       "      <td>happy</td>\n",
       "      <td>[ill, feel, delighted]</td>\n",
       "    </tr>\n",
       "  </tbody>\n",
       "</table>\n",
       "<p>100 rows × 3 columns</p>\n",
       "</div>"
      ],
      "text/plain": [
       "                                                    Text   Emotion  \\\n",
       "9904   i think im getting the feeling that were the w...  surprise   \n",
       "843    i sound so entitled but you cant help but to f...   sadness   \n",
       "7883   i decided to see if i could locate margaret or...      love   \n",
       "7353   i am sure feeling nervous about potential air ...      fear   \n",
       "16645  i have not only not lost any yarn overs but am...     happy   \n",
       "...                                                  ...       ...   \n",
       "17251  i also got some very nice condiment type press...     happy   \n",
       "11077  i can only guess that the boys are feeling shy...      fear   \n",
       "709    i would feel differently if i believed that th...     happy   \n",
       "4685   i said what i felt needed to be said and in ad...     anger   \n",
       "19013                                 ill feel delighted     happy   \n",
       "\n",
       "                                                 Cleaned  \n",
       "9904   [think, im, getting, feeling, weird, ones, usi...  \n",
       "843    [sound, entitled, cant, help, feel, disappoint...  \n",
       "7883   [decided, see, could, locate, margaret, jeff, ...  \n",
       "7353   [sure, feeling, nervous, potential, air, raids...  \n",
       "16645  [lost, yarn, overs, done, first, lace, project...  \n",
       "...                                                  ...  \n",
       "17251  [also, got, nice, condiment, type, pressies, w...  \n",
       "11077  [guess, boys, feeling, shy, sick, honestly, co...  \n",
       "709    [would, feel, differently, believed, leaders, ...  \n",
       "4685   [said, felt, needed, said, addition, feeling, ...  \n",
       "19013                             [ill, feel, delighted]  \n",
       "\n",
       "[100 rows x 3 columns]"
      ]
     },
     "execution_count": 28,
     "metadata": {},
     "output_type": "execute_result"
    }
   ],
   "source": [
    "df.head(100)"
   ]
  },
  {
   "cell_type": "code",
   "execution_count": 30,
   "metadata": {},
   "outputs": [
    {
     "data": {
      "text/plain": [
       "<AxesSubplot:xlabel='Emotion', ylabel='count'>"
      ]
     },
     "execution_count": 30,
     "metadata": {},
     "output_type": "execute_result"
    },
    {
     "data": {
      "image/png": "[encoded data removed]",
      "text/plain": [
       "<Figure size 432x288 with 1 Axes>"
      ]
     },
     "metadata": {
      "needs_background": "light"
     },
     "output_type": "display_data"
    }
   ],
   "source": [
    "sns.countplot(df.Emotion)"
   ]
  },
  {
   "cell_type": "markdown",
   "metadata": {},
   "source": [
    "## 4. Опциональный шаг: Проходимся по текстам стеммером"
   ]
  },
  {
   "cell_type": "code",
   "execution_count": 31,
   "metadata": {},
   "outputs": [],
   "source": [
    "wordnet = WordNetLemmatizer()\n",
    "df['Lemmatized'] = df['Cleaned'].apply(lambda x : [wordnet.lemmatize(i) for i in x])\n",
    "df['Lemmatized'] = df['Lemmatized'].apply(lambda x : ' '.join([w for w in x]))\n",
    "df['Lemmatized'] = df['Lemmatized'].apply(lambda x : ' '.join([w for w in x.split()]))"
   ]
  },
  {
   "cell_type": "code",
   "execution_count": 34,
   "metadata": {},
   "outputs": [],
   "source": [
    "df['Emotion'] = df['Emotion'].map({'surprise': 0,\n",
    "                                   'sadness': 1,\n",
    "                                   'love': 2,\n",
    "                                   'fear': 3,\n",
    "                                   'happy': 4,\n",
    "                                   'anger': 5\n",
    "                                  })"
   ]
  },
  {
   "cell_type": "code",
   "execution_count": 35,
   "metadata": {},
   "outputs": [
    {
     "data": {
      "text/html": [
       "<div>\n",
       "<style scoped>\n",
       "    .dataframe tbody tr th:only-of-type {\n",
       "        vertical-align: middle;\n",
       "    }\n",
       "\n",
       "    .dataframe tbody tr th {\n",
       "        vertical-align: top;\n",
       "    }\n",
       "\n",
       "    .dataframe thead th {\n",
       "        text-align: right;\n",
       "    }\n",
       "</style>\n",
       "<table border=\"1\" class=\"dataframe\">\n",
       "  <thead>\n",
       "    <tr style=\"text-align: right;\">\n",
       "      <th></th>\n",
       "      <th>Text</th>\n",
       "      <th>Emotion</th>\n",
       "      <th>Cleaned</th>\n",
       "      <th>Lemmatized</th>\n",
       "    </tr>\n",
       "  </thead>\n",
       "  <tbody>\n",
       "    <tr>\n",
       "      <th>9904</th>\n",
       "      <td>i think im getting the feeling that were the w...</td>\n",
       "      <td>0</td>\n",
       "      <td>[think, im, getting, feeling, weird, ones, usi...</td>\n",
       "      <td>think im getting feeling weird one using dryer...</td>\n",
       "    </tr>\n",
       "    <tr>\n",
       "      <th>843</th>\n",
       "      <td>i sound so entitled but you cant help but to f...</td>\n",
       "      <td>1</td>\n",
       "      <td>[sound, entitled, cant, help, feel, disappoint...</td>\n",
       "      <td>sound entitled cant help feel disappointed eve...</td>\n",
       "    </tr>\n",
       "    <tr>\n",
       "      <th>7883</th>\n",
       "      <td>i decided to see if i could locate margaret or...</td>\n",
       "      <td>2</td>\n",
       "      <td>[decided, see, could, locate, margaret, jeff, ...</td>\n",
       "      <td>decided see could locate margaret jeff feel lo...</td>\n",
       "    </tr>\n",
       "  </tbody>\n",
       "</table>\n",
       "</div>"
      ],
      "text/plain": [
       "                                                   Text  Emotion  \\\n",
       "9904  i think im getting the feeling that were the w...        0   \n",
       "843   i sound so entitled but you cant help but to f...        1   \n",
       "7883  i decided to see if i could locate margaret or...        2   \n",
       "\n",
       "                                                Cleaned  \\\n",
       "9904  [think, im, getting, feeling, weird, ones, usi...   \n",
       "843   [sound, entitled, cant, help, feel, disappoint...   \n",
       "7883  [decided, see, could, locate, margaret, jeff, ...   \n",
       "\n",
       "                                             Lemmatized  \n",
       "9904  think im getting feeling weird one using dryer...  \n",
       "843   sound entitled cant help feel disappointed eve...  \n",
       "7883  decided see could locate margaret jeff feel lo...  "
      ]
     },
     "execution_count": 35,
     "metadata": {},
     "output_type": "execute_result"
    }
   ],
   "source": [
    "df.head(3)"
   ]
  },
  {
   "cell_type": "markdown",
   "metadata": {},
   "source": [
    "## 5. Создаём матрицу TfIdf с помощью TfidfVectorizer"
   ]
  },
  {
   "cell_type": "code",
   "execution_count": 36,
   "metadata": {},
   "outputs": [
    {
     "data": {
      "text/plain": [
       "(1000, 1583)"
      ]
     },
     "execution_count": 36,
     "metadata": {},
     "output_type": "execute_result"
    }
   ],
   "source": [
    "tfidf_vectorizer = TfidfVectorizer(\n",
    "    max_df = 0.8,\n",
    "    max_features = 2500,\n",
    "    min_df = 0.002,\n",
    "    use_idf = True,\n",
    "    ngram_range = (1, 3)\n",
    ")\n",
    "z = tfidf_vectorizer.fit_transform(df['Lemmatized']).toarray()\n",
    "z.shape"
   ]
  },
  {
   "cell_type": "markdown",
   "metadata": {},
   "source": [
    "## 6. Применяем sklearn.linear_model.LogisticRegression() (либо другой классификатор по вашему выбору) к получившейся матрице TfIdf, проводим классификацию (здесь и далее всё с помощью кросс-валидации!), выводим получившиеся метрики качества (accuracy для multiclass или f1 / classification_report для бинарной)."
   ]
  },
  {
   "cell_type": "markdown",
   "metadata": {},
   "source": [
    "#### Fit model"
   ]
  },
  {
   "cell_type": "code",
   "execution_count": 42,
   "metadata": {},
   "outputs": [],
   "source": [
    "from sklearn.model_selection import cross_val_score, cross_validate\n",
    "from sklearn import svm\n",
    "\n",
    "\n",
    "clf = svm.SVC(kernel='linear', C=1, random_state=42)\n",
    "scores = cross_validate(clf, z, df['Emotion'], cv=5, scoring=['accuracy'])"
   ]
  },
  {
   "cell_type": "code",
   "execution_count": 43,
   "metadata": {},
   "outputs": [
    {
     "data": {
      "text/plain": [
       "{'fit_time': array([5.20798302, 5.12884879, 5.41766906, 5.89337516, 5.36870146]),\n",
       " 'score_time': array([0.71655798, 0.71555805, 0.75853443, 0.7785213 , 0.71955681]),\n",
       " 'test_accuracy': array([0.59 , 0.595, 0.57 , 0.575, 0.545])}"
      ]
     },
     "execution_count": 43,
     "metadata": {},
     "output_type": "execute_result"
    }
   ],
   "source": [
    "scores"
   ]
  },
  {
   "cell_type": "code",
   "execution_count": 45,
   "metadata": {},
   "outputs": [
    {
     "name": "stdout",
     "output_type": "stream",
     "text": [
      "              precision    recall  f1-score   support\n",
      "\n",
      "           0       0.00      0.00      0.00        17\n",
      "           1       0.44      0.76      0.56       153\n",
      "           2       1.00      0.03      0.06        35\n",
      "           3       0.64      0.12      0.20        59\n",
      "           4       0.53      0.68      0.59       167\n",
      "           5       0.92      0.16      0.27        69\n",
      "\n",
      "    accuracy                           0.50       500\n",
      "   macro avg       0.59      0.29      0.28       500\n",
      "weighted avg       0.58      0.50      0.43       500\n",
      "\n"
     ]
    }
   ],
   "source": [
    "y_pred = clf.fit(z[:500], df['Emotion'][:500]).predict(z[500:])\n",
    "print(classification_report(df['Emotion'][500:], y_pred))"
   ]
  },
  {
   "cell_type": "markdown",
   "metadata": {},
   "source": [
    "## 7. Теперь самое интересное: оптимизация и подбор наилучших гиперпатаметров и способа предобработки текстов. Играемся с параметрами TfidfVectorizer: max_df, min_df, max_features, ngram_range ((1,2) или (1,3)), чтобы максимально повысить качество предсказаний (в качестве метрики качества для оптимизации: accuracy для многоклассовой и f1 для бинарной классификации)."
   ]
  },
  {
   "cell_type": "markdown",
   "metadata": {},
   "source": [
    "---\n",
    "---\n",
    "### No lemmatization"
   ]
  },
  {
   "cell_type": "markdown",
   "metadata": {},
   "source": [
    "#### Gridsearch"
   ]
  },
  {
   "cell_type": "code",
   "execution_count": 47,
   "metadata": {},
   "outputs": [
    {
     "data": {
      "image/png": "[encoded data removed]",
      "text/plain": [
       "<Figure size 432x288 with 1 Axes>"
      ]
     },
     "metadata": {
      "needs_background": "light"
     },
     "output_type": "display_data"
    }
   ],
   "source": [
    "df = data.sample(1000)\n",
    "\n",
    "df['Cleaned'] = df['Text'].str.replace('@', '')\n",
    "df['Cleaned'] = df['Cleaned'].str.replace(r'http\\S+', '')\n",
    "df['Cleaned'] = df['Cleaned'].str.replace('[^a-zA-Z]', ' ')\n",
    "\n",
    "df['Cleaned'] = df['Cleaned'].apply(lambda text : remove_stopwords(text.lower()))\n",
    "df['Cleaned'] = df['Cleaned'].apply(lambda x : x.split())\n",
    "\n",
    "df['Emotion'] = df['Emotion'].map({'surprise': 0,\n",
    "                                   'sadness': 1,\n",
    "                                   'love': 2,\n",
    "                                   'fear': 3,\n",
    "                                   'happy': 4,\n",
    "                                   'anger': 5\n",
    "                                  })\n",
    "\n",
    "df['Cleaned'] = df['Cleaned'].apply(lambda x : ' '.join([w for w in x]))\n",
    "df['Cleaned'] = df['Cleaned'].apply(lambda x : ' '.join([w for w in x.split()]))\n",
    "\n",
    "sns.countplot(df.Emotion);"
   ]
  },
  {
   "cell_type": "code",
   "execution_count": 49,
   "metadata": {},
   "outputs": [],
   "source": [
    "from sklearn.model_selection import GridSearchCV\n",
    "from sklearn.linear_model import LogisticRegression\n",
    "from sklearn.pipeline import Pipeline\n",
    "\n",
    "\n",
    "grid_params = {\n",
    "    'tfidf__max_df': np.arange(0.5, 1, 0.1),\n",
    "    'tfidf__min_df': np.arange(0.001, 0.01, 0.001),\n",
    "    'tfidf__max_features': np.arange(2000, 5000, 500),\n",
    "    'tfidf__ngram_range': [(1, 2), (1, 3)],\n",
    "    'svm__C': np.arange(1, 5, 1),\n",
    "    'svm__kernel': ['linear', 'poly', 'rbf']\n",
    "}\n",
    "\n",
    "pipe = Pipeline(\n",
    "    steps=[\n",
    "        ('tfidf', TfidfVectorizer()),\n",
    "        ('svm', svm.SVC())\n",
    "    ]\n",
    ")\n",
    "\n",
    "gs = GridSearchCV(pipe, grid_params, n_jobs=-1, cv=5, verbose=2, scoring='accuracy')"
   ]
  },
  {
   "cell_type": "code",
   "execution_count": 50,
   "metadata": {},
   "outputs": [
    {
     "name": "stdout",
     "output_type": "stream",
     "text": [
      "Fitting 5 folds for each of 6480 candidates, totalling 32400 fits\n"
     ]
    },
    {
     "name": "stderr",
     "output_type": "stream",
     "text": [
      "[Parallel(n_jobs=-1)]: Using backend LokyBackend with 8 concurrent workers.\n",
      "[Parallel(n_jobs=-1)]: Done  25 tasks      | elapsed:   12.5s\n",
      "[Parallel(n_jobs=-1)]: Done 146 tasks      | elapsed:   21.2s\n",
      "[Parallel(n_jobs=-1)]: Done 349 tasks      | elapsed:   35.0s\n",
      "[Parallel(n_jobs=-1)]: Done 632 tasks      | elapsed:   55.1s\n",
      "[Parallel(n_jobs=-1)]: Done 997 tasks      | elapsed:  1.3min\n",
      "[Parallel(n_jobs=-1)]: Done 1442 tasks      | elapsed:  1.9min\n",
      "[Parallel(n_jobs=-1)]: Done 1969 tasks      | elapsed:  2.6min\n",
      "[Parallel(n_jobs=-1)]: Done 2576 tasks      | elapsed:  3.4min\n",
      "[Parallel(n_jobs=-1)]: Done 3265 tasks      | elapsed:  4.3min\n",
      "[Parallel(n_jobs=-1)]: Done 4034 tasks      | elapsed:  5.3min\n",
      "[Parallel(n_jobs=-1)]: Done 4885 tasks      | elapsed:  6.5min\n",
      "[Parallel(n_jobs=-1)]: Done 5816 tasks      | elapsed:  7.9min\n",
      "[Parallel(n_jobs=-1)]: Done 6829 tasks      | elapsed:  9.6min\n",
      "[Parallel(n_jobs=-1)]: Done 7922 tasks      | elapsed: 11.3min\n",
      "[Parallel(n_jobs=-1)]: Done 9097 tasks      | elapsed: 13.1min\n",
      "[Parallel(n_jobs=-1)]: Done 10352 tasks      | elapsed: 15.0min\n",
      "[Parallel(n_jobs=-1)]: Done 11689 tasks      | elapsed: 16.8min\n",
      "[Parallel(n_jobs=-1)]: Done 13106 tasks      | elapsed: 18.9min\n",
      "[Parallel(n_jobs=-1)]: Done 14605 tasks      | elapsed: 21.4min\n",
      "[Parallel(n_jobs=-1)]: Done 16184 tasks      | elapsed: 24.1min\n",
      "[Parallel(n_jobs=-1)]: Done 17845 tasks      | elapsed: 26.5min\n",
      "[Parallel(n_jobs=-1)]: Done 19586 tasks      | elapsed: 29.2min\n",
      "[Parallel(n_jobs=-1)]: Done 21409 tasks      | elapsed: 32.0min\n",
      "[Parallel(n_jobs=-1)]: Done 23312 tasks      | elapsed: 34.8min\n",
      "[Parallel(n_jobs=-1)]: Done 25297 tasks      | elapsed: 37.7min\n",
      "[Parallel(n_jobs=-1)]: Done 27362 tasks      | elapsed: 40.7min\n",
      "[Parallel(n_jobs=-1)]: Done 29509 tasks      | elapsed: 44.5min\n",
      "[Parallel(n_jobs=-1)]: Done 31736 tasks      | elapsed: 48.2min\n",
      "[Parallel(n_jobs=-1)]: Done 32400 out of 32400 | elapsed: 49.3min finished\n"
     ]
    },
    {
     "name": "stdout",
     "output_type": "stream",
     "text": [
      "Wall time: 49min 20s\n"
     ]
    },
    {
     "data": {
      "text/plain": [
       "{'svm__C': 2,\n",
       " 'svm__kernel': 'linear',\n",
       " 'tfidf__max_df': 0.7,\n",
       " 'tfidf__max_features': 4500,\n",
       " 'tfidf__min_df': 0.001,\n",
       " 'tfidf__ngram_range': (1, 2)}"
      ]
     },
     "execution_count": 50,
     "metadata": {},
     "output_type": "execute_result"
    }
   ],
   "source": [
    "%%time\n",
    "gs = gs.fit(df['Cleaned'].values, df['Emotion'])\n",
    "\n",
    "model = gs.best_estimator_\n",
    "gs.best_params_"
   ]
  },
  {
   "cell_type": "code",
   "execution_count": 52,
   "metadata": {},
   "outputs": [
    {
     "name": "stdout",
     "output_type": "stream",
     "text": [
      "              precision    recall  f1-score   support\n",
      "\n",
      "           0       1.00      1.00      1.00        21\n",
      "           1       1.00      1.00      1.00       145\n",
      "           2       1.00      1.00      1.00        43\n",
      "           3       1.00      1.00      1.00        52\n",
      "           4       0.99      1.00      1.00       167\n",
      "           5       1.00      0.99      0.99        72\n",
      "\n",
      "    accuracy                           1.00       500\n",
      "   macro avg       1.00      1.00      1.00       500\n",
      "weighted avg       1.00      1.00      1.00       500\n",
      "\n"
     ]
    }
   ],
   "source": [
    "y_pred = model.predict(df['Cleaned'][500:])\n",
    "print(classification_report(df['Emotion'][500:], y_pred))"
   ]
  },
  {
   "cell_type": "markdown",
   "metadata": {},
   "source": [
    "---\n",
    "---\n",
    "### Lemmatization"
   ]
  },
  {
   "cell_type": "code",
   "execution_count": 53,
   "metadata": {},
   "outputs": [],
   "source": [
    "wordnet = WordNetLemmatizer()\n",
    "df['Lemmatized'] = df['Cleaned'].apply(lambda x: [i for i in x.split(' ')]).apply(lambda x : [wordnet.lemmatize(i) for i in x])\n",
    "df['Lemmatized'] = df['Lemmatized'].apply(lambda x : ' '.join([w for w in x]))\n",
    "df['Lemmatized'] = df['Lemmatized'].apply(lambda x : ' '.join([w for w in x.split()]))"
   ]
  },
  {
   "cell_type": "code",
   "execution_count": 54,
   "metadata": {},
   "outputs": [
    {
     "data": {
      "text/plain": [
       "'power tools coming hip gunslinger style british gas portraying contented family enjoying warm glow new central heat'"
      ]
     },
     "execution_count": 54,
     "metadata": {},
     "output_type": "execute_result"
    }
   ],
   "source": [
    "df['Cleaned'].values[7]"
   ]
  },
  {
   "cell_type": "code",
   "execution_count": 55,
   "metadata": {},
   "outputs": [
    {
     "data": {
      "text/plain": [
       "'power tool coming hip gunslinger style british gas portraying contented family enjoying warm glow new central heat'"
      ]
     },
     "execution_count": 55,
     "metadata": {},
     "output_type": "execute_result"
    }
   ],
   "source": [
    "df['Lemmatized'].values[7]"
   ]
  },
  {
   "cell_type": "code",
   "execution_count": 56,
   "metadata": {},
   "outputs": [],
   "source": [
    "pipe = Pipeline(\n",
    "    steps=[\n",
    "        ('tfidf', TfidfVectorizer()),\n",
    "        ('svm', svm.SVC())\n",
    "    ]\n",
    ")\n",
    "\n",
    "lemm_gs = GridSearchCV(pipe, grid_params, n_jobs=-1, cv=5, verbose=2, scoring='accuracy')"
   ]
  },
  {
   "cell_type": "code",
   "execution_count": 57,
   "metadata": {},
   "outputs": [
    {
     "name": "stdout",
     "output_type": "stream",
     "text": [
      "Fitting 5 folds for each of 6480 candidates, totalling 32400 fits\n"
     ]
    },
    {
     "name": "stderr",
     "output_type": "stream",
     "text": [
      "[Parallel(n_jobs=-1)]: Using backend LokyBackend with 8 concurrent workers.\n",
      "[Parallel(n_jobs=-1)]: Done  25 tasks      | elapsed:   12.8s\n",
      "[Parallel(n_jobs=-1)]: Done 146 tasks      | elapsed:   20.9s\n",
      "[Parallel(n_jobs=-1)]: Done 349 tasks      | elapsed:   34.8s\n",
      "[Parallel(n_jobs=-1)]: Done 632 tasks      | elapsed:   54.4s\n",
      "[Parallel(n_jobs=-1)]: Done 997 tasks      | elapsed:  1.3min\n",
      "[Parallel(n_jobs=-1)]: Done 1442 tasks      | elapsed:  1.9min\n",
      "[Parallel(n_jobs=-1)]: Done 1969 tasks      | elapsed:  2.6min\n",
      "[Parallel(n_jobs=-1)]: Done 2576 tasks      | elapsed:  3.3min\n",
      "[Parallel(n_jobs=-1)]: Done 3265 tasks      | elapsed:  4.3min\n",
      "[Parallel(n_jobs=-1)]: Done 4034 tasks      | elapsed:  5.6min\n",
      "[Parallel(n_jobs=-1)]: Done 4885 tasks      | elapsed:  6.9min\n",
      "[Parallel(n_jobs=-1)]: Done 5816 tasks      | elapsed:  8.5min\n",
      "[Parallel(n_jobs=-1)]: Done 6829 tasks      | elapsed: 10.3min\n",
      "[Parallel(n_jobs=-1)]: Done 7922 tasks      | elapsed: 12.4min\n",
      "[Parallel(n_jobs=-1)]: Done 9097 tasks      | elapsed: 14.1min\n",
      "[Parallel(n_jobs=-1)]: Done 10352 tasks      | elapsed: 16.0min\n",
      "[Parallel(n_jobs=-1)]: Done 11689 tasks      | elapsed: 18.0min\n",
      "[Parallel(n_jobs=-1)]: Done 13106 tasks      | elapsed: 20.1min\n",
      "[Parallel(n_jobs=-1)]: Done 14605 tasks      | elapsed: 22.4min\n",
      "[Parallel(n_jobs=-1)]: Done 16184 tasks      | elapsed: 25.0min\n",
      "[Parallel(n_jobs=-1)]: Done 17845 tasks      | elapsed: 27.3min\n",
      "[Parallel(n_jobs=-1)]: Done 19586 tasks      | elapsed: 29.7min\n",
      "[Parallel(n_jobs=-1)]: Done 21409 tasks      | elapsed: 32.3min\n",
      "[Parallel(n_jobs=-1)]: Done 23312 tasks      | elapsed: 35.7min\n",
      "[Parallel(n_jobs=-1)]: Done 25297 tasks      | elapsed: 38.8min\n",
      "[Parallel(n_jobs=-1)]: Done 27362 tasks      | elapsed: 41.9min\n",
      "[Parallel(n_jobs=-1)]: Done 29509 tasks      | elapsed: 45.2min\n",
      "[Parallel(n_jobs=-1)]: Done 31736 tasks      | elapsed: 48.8min\n",
      "[Parallel(n_jobs=-1)]: Done 32400 out of 32400 | elapsed: 50.0min finished\n"
     ]
    },
    {
     "name": "stdout",
     "output_type": "stream",
     "text": [
      "Wall time: 50min 3s\n"
     ]
    },
    {
     "data": {
      "text/plain": [
       "{'svm__C': 2,\n",
       " 'svm__kernel': 'linear',\n",
       " 'tfidf__max_df': 0.5,\n",
       " 'tfidf__max_features': 4500,\n",
       " 'tfidf__min_df': 0.001,\n",
       " 'tfidf__ngram_range': (1, 2)}"
      ]
     },
     "execution_count": 57,
     "metadata": {},
     "output_type": "execute_result"
    }
   ],
   "source": [
    "%%time\n",
    "lemm_gs = lemm_gs.fit(df['Lemmatized'].values, df['Emotion'].values)\n",
    "\n",
    "lemm_model = lemm_gs.best_estimator_\n",
    "lemm_gs.best_params_"
   ]
  },
  {
   "cell_type": "code",
   "execution_count": 61,
   "metadata": {},
   "outputs": [
    {
     "name": "stdout",
     "output_type": "stream",
     "text": [
      "              precision    recall  f1-score   support\n",
      "\n",
      "           0       1.00      1.00      1.00        21\n",
      "           1       1.00      1.00      1.00       145\n",
      "           2       1.00      1.00      1.00        43\n",
      "           3       1.00      1.00      1.00        52\n",
      "           4       0.99      1.00      1.00       167\n",
      "           5       1.00      0.99      0.99        72\n",
      "\n",
      "    accuracy                           1.00       500\n",
      "   macro avg       1.00      1.00      1.00       500\n",
      "weighted avg       1.00      1.00      1.00       500\n",
      "\n"
     ]
    }
   ],
   "source": [
    "y_pred = lemm_model.predict(df['Cleaned'][500:])\n",
    "print(classification_report(df['Emotion'][500:], y_pred))"
   ]
  },
  {
   "cell_type": "markdown",
   "metadata": {},
   "source": [
    "## 8. Подводим итоги: параметры наилучшей модели и получившиеся при них метрики классификации."
   ]
  },
  {
   "cell_type": "markdown",
   "metadata": {},
   "source": [
    "---\n",
    "> **Итог:**\n",
    "Лучшего качества достигли сразу две модели: с использованием лемматизации и без её использования."
   ]
  },
  {
   "cell_type": "code",
   "execution_count": 62,
   "metadata": {},
   "outputs": [
    {
     "data": {
      "text/plain": [
       "{'svm__C': 2,\n",
       " 'svm__kernel': 'linear',\n",
       " 'tfidf__max_df': 0.7,\n",
       " 'tfidf__max_features': 4500,\n",
       " 'tfidf__min_df': 0.001,\n",
       " 'tfidf__ngram_range': (1, 2)}"
      ]
     },
     "execution_count": 62,
     "metadata": {},
     "output_type": "execute_result"
    }
   ],
   "source": [
    "gs.best_params_"
   ]
  },
  {
   "cell_type": "markdown",
   "metadata": {},
   "source": [
    "---\n",
    "---\n",
    "> **Метрики:**"
   ]
  },
  {
   "cell_type": "code",
   "execution_count": 64,
   "metadata": {},
   "outputs": [
    {
     "name": "stdout",
     "output_type": "stream",
     "text": [
      "              precision    recall  f1-score   support\n",
      "\n",
      "           0       1.00      1.00      1.00        21\n",
      "           1       1.00      1.00      1.00       145\n",
      "           2       1.00      1.00      1.00        43\n",
      "           3       1.00      1.00      1.00        52\n",
      "           4       0.99      1.00      1.00       167\n",
      "           5       1.00      0.99      0.99        72\n",
      "\n",
      "    accuracy                           1.00       500\n",
      "   macro avg       1.00      1.00      1.00       500\n",
      "weighted avg       1.00      1.00      1.00       500\n",
      "\n"
     ]
    }
   ],
   "source": [
    "y_pred = model.predict(df['Cleaned'][500:])\n",
    "print(classification_report(df['Emotion'][500:], y_pred))"
   ]
  },
  {
   "cell_type": "markdown",
   "metadata": {},
   "source": [
    "## 9. Строим confusion matrix"
   ]
  },
  {
   "cell_type": "code",
   "execution_count": 66,
   "metadata": {},
   "outputs": [
    {
     "data": {
      "text/plain": [
       "<AxesSubplot:>"
      ]
     },
     "execution_count": 66,
     "metadata": {},
     "output_type": "execute_result"
    },
    {
     "data": {
      "image/png": "[encoded data removed]",
      "text/plain": [
       "<Figure size 432x288 with 2 Axes>"
      ]
     },
     "metadata": {
      "needs_background": "light"
     },
     "output_type": "display_data"
    }
   ],
   "source": [
    "from sklearn.metrics import confusion_matrix\n",
    "\n",
    "\n",
    "confusion_scores = confusion_matrix(df['Emotion'][500:], y_pred)\n",
    "sns.heatmap(confusion_scores, annot=True)"
   ]
  },
  {
   "cell_type": "code",
   "execution_count": null,
   "metadata": {},
   "outputs": [],
   "source": []
  }
 ],
 "metadata": {
  "kernelspec": {
   "display_name": "Python 3",
   "language": "python",
   "name": "python3"
  },
  "language_info": {
   "codemirror_mode": {
    "name": "ipython",
    "version": 3
   },
   "file_extension": ".py",
   "mimetype": "text/x-python",
   "name": "python",
   "nbconvert_exporter": "python",
   "pygments_lexer": "ipython3",
   "version": "3.8.5"
  }
 },
 "nbformat": 4,
 "nbformat_minor": 4
}
